{
 "cells": [
  {
   "cell_type": "markdown",
   "metadata": {},
   "source": [
    "# Data in Python\n",
    "\n",
    "## Using Lists to Save and Retrieve Data in Python"
   ]
  },
  {
   "cell_type": "code",
   "execution_count": 2,
   "metadata": {},
   "outputs": [
    {
     "name": "stdout",
     "output_type": "stream",
     "text": [
      "['things1', True, 10]\n"
     ]
    }
   ],
   "source": [
    "things = [\"things1\", True, 10]\n",
    "print(things)"
   ]
  },
  {
   "cell_type": "code",
   "execution_count": 4,
   "metadata": {},
   "outputs": [
    {
     "name": "stdout",
     "output_type": "stream",
     "text": [
      "['01. Data in Python.ipynb']\n"
     ]
    }
   ],
   "source": [
    "import os\n",
    "directories = os.listdir('/home/agueda/Studies/Coursera/22.11 5-Scripting with Python and SQL for Data Engineering')\n",
    "print(directories)"
   ]
  },
  {
   "cell_type": "code",
   "execution_count": 6,
   "metadata": {},
   "outputs": [
    {
     "name": "stdout",
     "output_type": "stream",
     "text": [
      "['01. Data in Python.ipynb', 'example', 'example']\n"
     ]
    }
   ],
   "source": [
    "directories.append(\"example\") # does not create a new folder, only appends to the list\n",
    "print(directories)"
   ]
  },
  {
   "cell_type": "code",
   "execution_count": 8,
   "metadata": {},
   "outputs": [
    {
     "name": "stdout",
     "output_type": "stream",
     "text": [
      "['example', '01. Data in Python.ipynb', 'example', 'example']\n"
     ]
    }
   ],
   "source": [
    "directories.insert(0, \"example\") # appends to the position 0\n",
    "print(directories)"
   ]
  },
  {
   "cell_type": "code",
   "execution_count": 9,
   "metadata": {},
   "outputs": [
    {
     "data": {
      "text/plain": [
       "'example'"
      ]
     },
     "execution_count": 9,
     "metadata": {},
     "output_type": "execute_result"
    }
   ],
   "source": [
    "directories[0] # shows the item in the 0 position"
   ]
  },
  {
   "cell_type": "code",
   "execution_count": 10,
   "metadata": {},
   "outputs": [
    {
     "data": {
      "text/plain": [
       "1"
      ]
     },
     "execution_count": 10,
     "metadata": {},
     "output_type": "execute_result"
    }
   ],
   "source": [
    "# retrieves the position of 01. Data in Python.ipynb\n",
    "directories.index('01. Data in Python.ipynb')"
   ]
  },
  {
   "cell_type": "code",
   "execution_count": 25,
   "metadata": {},
   "outputs": [
    {
     "ename": "IndexError",
     "evalue": "list index out of range",
     "output_type": "error",
     "traceback": [
      "\u001b[0;31m---------------------------------------------------------------------------\u001b[0m",
      "\u001b[0;31mIndexError\u001b[0m                                Traceback (most recent call last)",
      "Cell \u001b[0;32mIn [25], line 2\u001b[0m\n\u001b[1;32m      1\u001b[0m items \u001b[39m=\u001b[39m [\u001b[39m\"\u001b[39m\u001b[39mDownloads\u001b[39m\u001b[39m\"\u001b[39m, \u001b[39m\"\u001b[39m\u001b[39mDocuments\u001b[39m\u001b[39m\"\u001b[39m]\n\u001b[0;32m----> 2\u001b[0m items[\u001b[39m2\u001b[39;49m]\n",
      "\u001b[0;31mIndexError\u001b[0m: list index out of range"
     ]
    }
   ],
   "source": [
    "items = [\"Downloads\", \"Documents\"]\n",
    "items[2]"
   ]
  },
  {
   "cell_type": "markdown",
   "metadata": {},
   "source": [
    "## Using Dictionaries to Save and Retrieve Data"
   ]
  },
  {
   "cell_type": "code",
   "execution_count": 11,
   "metadata": {},
   "outputs": [
    {
     "name": "stdout",
     "output_type": "stream",
     "text": [
      "{'name': 'Alfredo', 'last name': 'Deza'}\n"
     ]
    }
   ],
   "source": [
    "contacts = {'name': 'Alfredo',\n",
    "            'last name' : 'Deza'}\n",
    "print(contacts)"
   ]
  },
  {
   "cell_type": "code",
   "execution_count": 12,
   "metadata": {},
   "outputs": [
    {
     "data": {
      "text/plain": [
       "'Alfredo'"
      ]
     },
     "execution_count": 12,
     "metadata": {},
     "output_type": "execute_result"
    }
   ],
   "source": [
    "contacts['name'] # requesting the value from a key"
   ]
  },
  {
   "cell_type": "code",
   "execution_count": 13,
   "metadata": {},
   "outputs": [
    {
     "ename": "KeyError",
     "evalue": "'phone'",
     "output_type": "error",
     "traceback": [
      "\u001b[0;31m---------------------------------------------------------------------------\u001b[0m",
      "\u001b[0;31mKeyError\u001b[0m                                  Traceback (most recent call last)",
      "Cell \u001b[0;32mIn [13], line 1\u001b[0m\n\u001b[0;32m----> 1\u001b[0m contacts[\u001b[39m'\u001b[39;49m\u001b[39mphone\u001b[39;49m\u001b[39m'\u001b[39;49m]\n",
      "\u001b[0;31mKeyError\u001b[0m: 'phone'"
     ]
    }
   ],
   "source": [
    "contacts['phone']"
   ]
  },
  {
   "cell_type": "code",
   "execution_count": 16,
   "metadata": {},
   "outputs": [
    {
     "name": "stdout",
     "output_type": "stream",
     "text": [
      "Unknown\n"
     ]
    }
   ],
   "source": [
    "print(contacts.get('phone')) # returns None\n",
    "print(contacts.get('phone', 'Unknown')) # returns Unknown"
   ]
  },
  {
   "cell_type": "code",
   "execution_count": 17,
   "metadata": {},
   "outputs": [
    {
     "data": {
      "text/plain": [
       "dict_keys(['name', 'last name'])"
      ]
     },
     "execution_count": 17,
     "metadata": {},
     "output_type": "execute_result"
    }
   ],
   "source": [
    "contacts.keys()"
   ]
  },
  {
   "cell_type": "code",
   "execution_count": 18,
   "metadata": {},
   "outputs": [
    {
     "data": {
      "text/plain": [
       "dict_values(['Alfredo', 'Deza'])"
      ]
     },
     "execution_count": 18,
     "metadata": {},
     "output_type": "execute_result"
    }
   ],
   "source": [
    "contacts.values()"
   ]
  },
  {
   "cell_type": "code",
   "execution_count": 19,
   "metadata": {},
   "outputs": [
    {
     "name": "stdout",
     "output_type": "stream",
     "text": [
      "{'name': 'Alfredo', 'last name': 'Deza', 'phone': '678-000-1111'}\n"
     ]
    }
   ],
   "source": [
    "# add info to a dictionary\n",
    "contacts['phone'] = '678-000-1111'\n",
    "print(contacts)"
   ]
  },
  {
   "cell_type": "code",
   "execution_count": 88,
   "metadata": {},
   "outputs": [
    {
     "ename": "KeyError",
     "evalue": "'Guthenfoord'",
     "output_type": "error",
     "traceback": [
      "\u001b[0;31m---------------------------------------------------------------------------\u001b[0m",
      "\u001b[0;31mKeyError\u001b[0m                                  Traceback (most recent call last)",
      "Cell \u001b[0;32mIn [88], line 2\u001b[0m\n\u001b[1;32m      1\u001b[0m address \u001b[39m=\u001b[39m {\u001b[39m\"\u001b[39m\u001b[39mstreet\u001b[39m\u001b[39m\"\u001b[39m: \u001b[39m\"\u001b[39m\u001b[39mmain\u001b[39m\u001b[39m\"\u001b[39m, \u001b[39m\"\u001b[39m\u001b[39mnumber\u001b[39m\u001b[39m\"\u001b[39m: \u001b[39m1044\u001b[39m, \u001b[39m\"\u001b[39m\u001b[39mprovince\u001b[39m\u001b[39m\"\u001b[39m: \u001b[39m\"\u001b[39m\u001b[39mGuthenfoord\u001b[39m\u001b[39m\"\u001b[39m}\n\u001b[0;32m----> 2\u001b[0m address[\u001b[39m\"\u001b[39;49m\u001b[39mGuthenfoord\u001b[39;49m\u001b[39m\"\u001b[39;49m] \n",
      "\u001b[0;31mKeyError\u001b[0m: 'Guthenfoord'"
     ]
    }
   ],
   "source": [
    "address = {\"street\": \"main\", \"number\": 1044, \"province\": \"Guthenfoord\"}\n",
    "address[\"Guthenfoord\"] "
   ]
  },
  {
   "cell_type": "markdown",
   "metadata": {},
   "source": [
    "## Common Data Structures in Python"
   ]
  },
  {
   "cell_type": "code",
   "execution_count": 20,
   "metadata": {},
   "outputs": [
    {
     "data": {
      "text/plain": [
       "('item1', 'item2')"
      ]
     },
     "execution_count": 20,
     "metadata": {},
     "output_type": "execute_result"
    }
   ],
   "source": [
    "read_only = ('item1', 'item2')\n",
    "read_only\n",
    "# this is a tuple - you can't do much with with it"
   ]
  },
  {
   "cell_type": "code",
   "execution_count": 21,
   "metadata": {},
   "outputs": [
    {
     "data": {
      "text/plain": [
       "set"
      ]
     },
     "execution_count": 21,
     "metadata": {},
     "output_type": "execute_result"
    }
   ],
   "source": [
    "# creating a set - you may use it when you are dealing with data that \n",
    "# requires uniqueness \n",
    "\n",
    "unique = {1, 2, 3, 4, 1, 3, 2, 1}\n",
    "type(unique)"
   ]
  },
  {
   "cell_type": "code",
   "execution_count": 22,
   "metadata": {},
   "outputs": [
    {
     "data": {
      "text/plain": [
       "{1, 2, 3, 4}"
      ]
     },
     "execution_count": 22,
     "metadata": {},
     "output_type": "execute_result"
    }
   ],
   "source": [
    "unique"
   ]
  },
  {
   "cell_type": "code",
   "execution_count": 24,
   "metadata": {},
   "outputs": [
    {
     "data": {
      "text/plain": [
       "{1, 2, 3, 4, 5}"
      ]
     },
     "execution_count": 24,
     "metadata": {},
     "output_type": "execute_result"
    }
   ],
   "source": [
    "unique.add(5)\n",
    "unique"
   ]
  },
  {
   "cell_type": "markdown",
   "metadata": {},
   "source": [
    "## Mapping Data Structures in Python\n",
    "\n",
    "### Iterating Over Lists and Dictionaries in Python"
   ]
  },
  {
   "cell_type": "code",
   "execution_count": 26,
   "metadata": {},
   "outputs": [
    {
     "name": "stdout",
     "output_type": "stream",
     "text": [
      "Alfredo\n",
      "Noah\n",
      "Kennedy\n",
      "Jim\n"
     ]
    }
   ],
   "source": [
    "# lists\n",
    "\n",
    "names = ['Alfredo', 'Noah', 'Kennedy', 'Jim']\n",
    "\n",
    "for name in names:\n",
    "    print(name)\n",
    "    "
   ]
  },
  {
   "cell_type": "code",
   "execution_count": 27,
   "metadata": {},
   "outputs": [
    {
     "name": "stdout",
     "output_type": "stream",
     "text": [
      "Alfredo\n",
      "Kennedy\n"
     ]
    }
   ],
   "source": [
    "for name in names:\n",
    "    if len(name) > 5:\n",
    "        print(name)\n",
    "    "
   ]
  },
  {
   "cell_type": "code",
   "execution_count": 28,
   "metadata": {},
   "outputs": [
    {
     "data": {
      "text/plain": [
       "['Alfredo', 'Kennedy']"
      ]
     },
     "execution_count": 28,
     "metadata": {},
     "output_type": "execute_result"
    }
   ],
   "source": [
    "long_names = [name for name in names if len(name) > 5]\n",
    "long_names"
   ]
  },
  {
   "cell_type": "code",
   "execution_count": 29,
   "metadata": {},
   "outputs": [
    {
     "name": "stdout",
     "output_type": "stream",
     "text": [
      "Alfredo\n",
      "Noah\n",
      "Kennedy\n",
      "Jim\n"
     ]
    }
   ],
   "source": [
    "# dictionary\n",
    "\n",
    "contacts = {'Alfredo': 'alfredo@example.org',\n",
    "            'Noah': 'noah@example.org',\n",
    "            'Kennedy': 'kennedy@example.org',\n",
    "            'Jim': 'jim@example.org'}\n",
    "# let's look for the keys\n",
    "for contact in contacts:\n",
    "    print(contact)"
   ]
  },
  {
   "cell_type": "code",
   "execution_count": 30,
   "metadata": {},
   "outputs": [
    {
     "name": "stdout",
     "output_type": "stream",
     "text": [
      "alfredo@example.org\n",
      "noah@example.org\n",
      "kennedy@example.org\n",
      "jim@example.org\n"
     ]
    }
   ],
   "source": [
    "# let's look for the values\n",
    "for contact in contacts.values():\n",
    "    print(contact)"
   ]
  },
  {
   "cell_type": "code",
   "execution_count": 31,
   "metadata": {},
   "outputs": [
    {
     "name": "stdout",
     "output_type": "stream",
     "text": [
      "Alfredo alfredo@example.org\n",
      "Noah noah@example.org\n",
      "Kennedy kennedy@example.org\n",
      "Jim jim@example.org\n"
     ]
    }
   ],
   "source": [
    "for name, email in contacts.items():\n",
    "    print(name, email)"
   ]
  },
  {
   "cell_type": "markdown",
   "metadata": {},
   "source": [
    "### Iterating Over Other Data Structures in Python"
   ]
  },
  {
   "cell_type": "code",
   "execution_count": 33,
   "metadata": {},
   "outputs": [
    {
     "name": "stdout",
     "output_type": "stream",
     "text": [
      "1\n",
      "2\n",
      "3\n",
      "4\n"
     ]
    }
   ],
   "source": [
    "read_only = (1, 2, 3, 4)\n",
    "for ro_item in read_only:\n",
    "    print(ro_item)"
   ]
  },
  {
   "cell_type": "code",
   "execution_count": 34,
   "metadata": {},
   "outputs": [
    {
     "name": "stdout",
     "output_type": "stream",
     "text": [
      "1\n",
      "2\n",
      "3\n",
      "4\n"
     ]
    }
   ],
   "source": [
    "unique = {1, 1, 1, 2, 3, 4, 2}\n",
    "for item in unique:\n",
    "    print(item)"
   ]
  },
  {
   "cell_type": "markdown",
   "metadata": {},
   "source": [
    "### Storing Data Between Data Structures in Python"
   ]
  },
  {
   "cell_type": "code",
   "execution_count": 36,
   "metadata": {},
   "outputs": [],
   "source": [
    "# collect items in home directory\n",
    "import os\n",
    "\n",
    "home_items = os.listdir('/home/agueda')\n",
    "home_content = {'files': [], 'directories': []}"
   ]
  },
  {
   "cell_type": "code",
   "execution_count": 37,
   "metadata": {},
   "outputs": [
    {
     "data": {
      "text/plain": [
       "67"
      ]
     },
     "execution_count": 37,
     "metadata": {},
     "output_type": "execute_result"
    }
   ],
   "source": [
    "len(home_items)"
   ]
  },
  {
   "cell_type": "code",
   "execution_count": 38,
   "metadata": {},
   "outputs": [
    {
     "data": {
      "text/plain": [
       "['.ipython',\n",
       " 'openrgb.appimage',\n",
       " '.thunderbird',\n",
       " '.local',\n",
       " 'Atelier',\n",
       " 'Studies',\n",
       " 'PycharmProjects',\n",
       " '.lyx',\n",
       " '.gconf',\n",
       " 'MEI',\n",
       " '.swp',\n",
       " 'Music',\n",
       " '.wget-hsts',\n",
       " '.java',\n",
       " '.cache',\n",
       " 'Downloads',\n",
       " 'core',\n",
       " '.var',\n",
       " '.jupyter',\n",
       " '.bashrc',\n",
       " 'tor-browser_en-US',\n",
       " '.pki',\n",
       " 'Documents',\n",
       " 'openrgb.deb',\n",
       " '.ICEauthority',\n",
       " '.config',\n",
       " 'USP',\n",
       " '.kinorc',\n",
       " '.zoom',\n",
       " 'skypeforlinux-64.deb',\n",
       " '.wine',\n",
       " 'Public',\n",
       " '.cups',\n",
       " '.viminfo',\n",
       " 'Desktop',\n",
       " '.icons',\n",
       " 'Python-3.11.0.tgz',\n",
       " 'Python-3.8.5',\n",
       " 'VirtualBox VMs',\n",
       " 'Python-3.11.0',\n",
       " '.ipynb_checkpoints',\n",
       " '.openshot_qt',\n",
       " 'Models',\n",
       " '.kino-history',\n",
       " '.mozilla',\n",
       " '.vscode',\n",
       " 'Pictures',\n",
       " '.bash_history',\n",
       " '.xournal',\n",
       " '.dbus',\n",
       " '.gnupg',\n",
       " '.Xauthority',\n",
       " '.gitconfig',\n",
       " 'hello.py',\n",
       " '.themes',\n",
       " '.ssh',\n",
       " 'Work',\n",
       " '.python_history',\n",
       " 'snap',\n",
       " '.gnome',\n",
       " 'Python-3.11.0.tgz.1',\n",
       " '.profile',\n",
       " 'ia32-libs_2020.05.27_amd64.deb',\n",
       " 'Videos',\n",
       " 'numpy',\n",
       " 'JupyterLab',\n",
       " '.bash_logout']"
      ]
     },
     "execution_count": 38,
     "metadata": {},
     "output_type": "execute_result"
    }
   ],
   "source": [
    "home_items"
   ]
  },
  {
   "cell_type": "code",
   "execution_count": 39,
   "metadata": {},
   "outputs": [
    {
     "data": {
      "text/plain": [
       "['/home/agueda/.ipython',\n",
       " '/home/agueda/openrgb.appimage',\n",
       " '/home/agueda/.thunderbird',\n",
       " '/home/agueda/.local',\n",
       " '/home/agueda/Atelier',\n",
       " '/home/agueda/Studies',\n",
       " '/home/agueda/PycharmProjects',\n",
       " '/home/agueda/.lyx',\n",
       " '/home/agueda/.gconf',\n",
       " '/home/agueda/MEI',\n",
       " '/home/agueda/.swp',\n",
       " '/home/agueda/Music',\n",
       " '/home/agueda/.wget-hsts',\n",
       " '/home/agueda/.java',\n",
       " '/home/agueda/.cache',\n",
       " '/home/agueda/Downloads',\n",
       " '/home/agueda/core',\n",
       " '/home/agueda/.var',\n",
       " '/home/agueda/.jupyter',\n",
       " '/home/agueda/.bashrc',\n",
       " '/home/agueda/tor-browser_en-US',\n",
       " '/home/agueda/.pki',\n",
       " '/home/agueda/Documents',\n",
       " '/home/agueda/openrgb.deb',\n",
       " '/home/agueda/.ICEauthority',\n",
       " '/home/agueda/.config',\n",
       " '/home/agueda/USP',\n",
       " '/home/agueda/.kinorc',\n",
       " '/home/agueda/.zoom',\n",
       " '/home/agueda/skypeforlinux-64.deb',\n",
       " '/home/agueda/.wine',\n",
       " '/home/agueda/Public',\n",
       " '/home/agueda/.cups',\n",
       " '/home/agueda/.viminfo',\n",
       " '/home/agueda/Desktop',\n",
       " '/home/agueda/.icons',\n",
       " '/home/agueda/Python-3.11.0.tgz',\n",
       " '/home/agueda/Python-3.8.5',\n",
       " '/home/agueda/VirtualBox VMs',\n",
       " '/home/agueda/Python-3.11.0',\n",
       " '/home/agueda/.ipynb_checkpoints',\n",
       " '/home/agueda/.openshot_qt',\n",
       " '/home/agueda/Models',\n",
       " '/home/agueda/.kino-history',\n",
       " '/home/agueda/.mozilla',\n",
       " '/home/agueda/.vscode',\n",
       " '/home/agueda/Pictures',\n",
       " '/home/agueda/.bash_history',\n",
       " '/home/agueda/.xournal',\n",
       " '/home/agueda/.dbus',\n",
       " '/home/agueda/.gnupg',\n",
       " '/home/agueda/.Xauthority',\n",
       " '/home/agueda/.gitconfig',\n",
       " '/home/agueda/hello.py',\n",
       " '/home/agueda/.themes',\n",
       " '/home/agueda/.ssh',\n",
       " '/home/agueda/Work',\n",
       " '/home/agueda/.python_history',\n",
       " '/home/agueda/snap',\n",
       " '/home/agueda/.gnome',\n",
       " '/home/agueda/Python-3.11.0.tgz.1',\n",
       " '/home/agueda/.profile',\n",
       " '/home/agueda/ia32-libs_2020.05.27_amd64.deb',\n",
       " '/home/agueda/Videos',\n",
       " '/home/agueda/numpy',\n",
       " '/home/agueda/JupyterLab',\n",
       " '/home/agueda/.bash_logout']"
      ]
     },
     "execution_count": 39,
     "metadata": {},
     "output_type": "execute_result"
    }
   ],
   "source": [
    "home_paths = [os.path.join('/home/agueda', item) for item in home_items]\n",
    "home_paths"
   ]
  },
  {
   "cell_type": "code",
   "execution_count": 41,
   "metadata": {},
   "outputs": [
    {
     "name": "stdout",
     "output_type": "stream",
     "text": [
      "{'files': ['/home/agueda/openrgb.appimage', '/home/agueda/.swp', '/home/agueda/.wget-hsts', '/home/agueda/core', '/home/agueda/.bashrc', '/home/agueda/openrgb.deb', '/home/agueda/.ICEauthority', '/home/agueda/.kinorc', '/home/agueda/skypeforlinux-64.deb', '/home/agueda/.viminfo', '/home/agueda/Python-3.11.0.tgz', '/home/agueda/.bash_history', '/home/agueda/.Xauthority', '/home/agueda/.gitconfig', '/home/agueda/hello.py', '/home/agueda/.python_history', '/home/agueda/Python-3.11.0.tgz.1', '/home/agueda/.profile', '/home/agueda/ia32-libs_2020.05.27_amd64.deb', '/home/agueda/.bash_logout'], 'directories': ['/home/agueda/.ipython', '/home/agueda/.thunderbird', '/home/agueda/.local', '/home/agueda/Atelier', '/home/agueda/Studies', '/home/agueda/PycharmProjects', '/home/agueda/.lyx', '/home/agueda/.gconf', '/home/agueda/MEI', '/home/agueda/Music', '/home/agueda/.java', '/home/agueda/.cache', '/home/agueda/Downloads', '/home/agueda/.var', '/home/agueda/.jupyter', '/home/agueda/tor-browser_en-US', '/home/agueda/.pki', '/home/agueda/Documents', '/home/agueda/.config', '/home/agueda/USP', '/home/agueda/.zoom', '/home/agueda/.wine', '/home/agueda/Public', '/home/agueda/.cups', '/home/agueda/Desktop', '/home/agueda/.icons', '/home/agueda/Python-3.8.5', '/home/agueda/VirtualBox VMs', '/home/agueda/Python-3.11.0', '/home/agueda/.ipynb_checkpoints', '/home/agueda/.openshot_qt', '/home/agueda/Models', '/home/agueda/.kino-history', '/home/agueda/.mozilla', '/home/agueda/.vscode', '/home/agueda/Pictures', '/home/agueda/.xournal', '/home/agueda/.dbus', '/home/agueda/.gnupg', '/home/agueda/.themes', '/home/agueda/.ssh', '/home/agueda/Work', '/home/agueda/snap', '/home/agueda/.gnome', '/home/agueda/Videos', '/home/agueda/numpy', '/home/agueda/JupyterLab', '/home/agueda/.ipython', '/home/agueda/.thunderbird', '/home/agueda/.local', '/home/agueda/Atelier', '/home/agueda/Studies', '/home/agueda/PycharmProjects', '/home/agueda/.lyx', '/home/agueda/.gconf', '/home/agueda/MEI', '/home/agueda/Music', '/home/agueda/.java', '/home/agueda/.cache', '/home/agueda/Downloads', '/home/agueda/.var', '/home/agueda/.jupyter', '/home/agueda/tor-browser_en-US', '/home/agueda/.pki', '/home/agueda/Documents', '/home/agueda/.config', '/home/agueda/USP', '/home/agueda/.zoom', '/home/agueda/.wine', '/home/agueda/Public', '/home/agueda/.cups', '/home/agueda/Desktop', '/home/agueda/.icons', '/home/agueda/Python-3.8.5', '/home/agueda/VirtualBox VMs', '/home/agueda/Python-3.11.0', '/home/agueda/.ipynb_checkpoints', '/home/agueda/.openshot_qt', '/home/agueda/Models', '/home/agueda/.kino-history', '/home/agueda/.mozilla', '/home/agueda/.vscode', '/home/agueda/Pictures', '/home/agueda/.xournal', '/home/agueda/.dbus', '/home/agueda/.gnupg', '/home/agueda/.themes', '/home/agueda/.ssh', '/home/agueda/Work', '/home/agueda/snap', '/home/agueda/.gnome', '/home/agueda/Videos', '/home/agueda/numpy', '/home/agueda/JupyterLab']}\n"
     ]
    }
   ],
   "source": [
    "for path in home_paths:\n",
    "    if os.path.isdir(path):\n",
    "        home_content['directories'].append(path)\n",
    "    if os.path.isfile(path):\n",
    "        home_content['files'].append(path)\n",
    "print(home_content)"
   ]
  },
  {
   "cell_type": "code",
   "execution_count": 42,
   "metadata": {},
   "outputs": [
    {
     "name": "stdout",
     "output_type": "stream",
     "text": [
      "/home/agueda/openrgb.appimage\n",
      "/home/agueda/.swp\n",
      "/home/agueda/.wget-hsts\n",
      "/home/agueda/core\n",
      "/home/agueda/.bashrc\n",
      "/home/agueda/openrgb.deb\n",
      "/home/agueda/.ICEauthority\n",
      "/home/agueda/.kinorc\n",
      "/home/agueda/skypeforlinux-64.deb\n",
      "/home/agueda/.viminfo\n",
      "/home/agueda/Python-3.11.0.tgz\n",
      "/home/agueda/.bash_history\n",
      "/home/agueda/.Xauthority\n",
      "/home/agueda/.gitconfig\n",
      "/home/agueda/hello.py\n",
      "/home/agueda/.python_history\n",
      "/home/agueda/Python-3.11.0.tgz.1\n",
      "/home/agueda/.profile\n",
      "/home/agueda/ia32-libs_2020.05.27_amd64.deb\n",
      "/home/agueda/.bash_logout\n"
     ]
    }
   ],
   "source": [
    "for item in home_content['files']:\n",
    "    print(item)"
   ]
  },
  {
   "cell_type": "markdown",
   "metadata": {},
   "source": [
    "## Persisting and Loading Data in Python\n",
    "\n",
    "### Loading Data from Files and File Paths in Python"
   ]
  },
  {
   "cell_type": "code",
   "execution_count": 61,
   "metadata": {},
   "outputs": [
    {
     "data": {
      "text/plain": [
       "\"CREATE TABLE emp (\\nempno INT PRIMARY KEY,\\nename VARCHAR(10),\\njob VARCHAR(9),\\nmgr INT NULL,\\nhiredate DATETIME,\\nsal NUMERIC(7,2),\\ncomm NUMERIC(7,2) NULL,\\ndept INT)\\nbegin\\ninsert into emp values\\n    (1,'JOHNSON','ADMIN',6,'12-17-1990',18000,NULL,4)\\ninsert into emp values\\n    (2,'HARDING','MANAGER',9,'02-02-1998',52000,300,3)\\ninsert into emp values\\n    (3,'TAFT','SALES I',2,'01-02-1996',25000,500,3)\\ninsert into emp values\\n    (4,'HOOVER','SALES I',2,'04-02-1990',27000,NULL,3)\\ninsert into emp values\\n    (5,'LINCOLN','TECH',6,'06-23-1994',22500,1400,4)\\ninsert into emp values\\n    (6,'GARFIELD','MANAGER',9,'05-01-1993',54000,NULL,4)\\ninsert into emp values\\n    (7,'POLK','TECH',6,'09-22-1997',25000,NULL,4)\\ninsert into emp values\\n    (8,'GRANT','ENGINEER',10,'03-30-1997',32000,NULL,2)\\ninsert into emp values\\n    (9,'JACKSON','CEO',NULL,'01-01-1990',75000,NULL,4)\\ninsert into emp values\\n    (10,'FILLMORE','MANAGER',9,'08-09-1994',56000,NULL,2)\\ninsert into emp values\\n    (11,'ADAMS','ENGINEER',10,'03-15-1996',34000,NULL,2)\\ninsert into emp values\\n    (12,'WASHINGTON','ADMIN',6,'04-16-1998',18000,NULL,4)\\ninsert into emp values\\n    (13,'MONROE','ENGINEER',10,'12-03-2000',30000,NULL,2)\\ninsert into emp values\\n    (14,'ROOSEVELT','CPA',9,'10-12-1995',35000,NULL,1)\\nend\\nCREATE TABLE dept (\\ndeptno INT NOT NULL,\\ndname VARCHAR(14),\\nloc VARCHAR(13))\\nbegin\\ninsert into dept values (1,'ACCOUNTING','ST LOUIS')\\ninsert into dept values (2,'RESEARCH','NEW YORK')\\ninsert into dept values (3,'SALES','ATLANTA')\\ninsert into dept values (4, 'OPERATIONS','SEATTLE')\\nend\""
      ]
     },
     "execution_count": 61,
     "metadata": {},
     "output_type": "execute_result"
    }
   ],
   "source": [
    "sql_file = open('populate.sql')\n",
    "# you need to close the file afterwards\n",
    "sql_contents = sql_file.read()\n",
    "sql_contents\n",
    "sql_file.close()"
   ]
  },
  {
   "cell_type": "code",
   "execution_count": 64,
   "metadata": {},
   "outputs": [
    {
     "data": {
      "text/plain": [
       "['CREATE TABLE emp (\\n',\n",
       " 'empno INT PRIMARY KEY,\\n',\n",
       " 'ename VARCHAR(10),\\n',\n",
       " 'job VARCHAR(9),\\n',\n",
       " 'mgr INT NULL,\\n',\n",
       " 'hiredate DATETIME,\\n',\n",
       " 'sal NUMERIC(7,2),\\n',\n",
       " 'comm NUMERIC(7,2) NULL,\\n',\n",
       " 'dept INT)\\n',\n",
       " 'begin\\n',\n",
       " 'insert into emp values\\n',\n",
       " \"    (1,'JOHNSON','ADMIN',6,'12-17-1990',18000,NULL,4)\\n\",\n",
       " 'insert into emp values\\n',\n",
       " \"    (2,'HARDING','MANAGER',9,'02-02-1998',52000,300,3)\\n\",\n",
       " 'insert into emp values\\n',\n",
       " \"    (3,'TAFT','SALES I',2,'01-02-1996',25000,500,3)\\n\",\n",
       " 'insert into emp values\\n',\n",
       " \"    (4,'HOOVER','SALES I',2,'04-02-1990',27000,NULL,3)\\n\",\n",
       " 'insert into emp values\\n',\n",
       " \"    (5,'LINCOLN','TECH',6,'06-23-1994',22500,1400,4)\\n\",\n",
       " 'insert into emp values\\n',\n",
       " \"    (6,'GARFIELD','MANAGER',9,'05-01-1993',54000,NULL,4)\\n\",\n",
       " 'insert into emp values\\n',\n",
       " \"    (7,'POLK','TECH',6,'09-22-1997',25000,NULL,4)\\n\",\n",
       " 'insert into emp values\\n',\n",
       " \"    (8,'GRANT','ENGINEER',10,'03-30-1997',32000,NULL,2)\\n\",\n",
       " 'insert into emp values\\n',\n",
       " \"    (9,'JACKSON','CEO',NULL,'01-01-1990',75000,NULL,4)\\n\",\n",
       " 'insert into emp values\\n',\n",
       " \"    (10,'FILLMORE','MANAGER',9,'08-09-1994',56000,NULL,2)\\n\",\n",
       " 'insert into emp values\\n',\n",
       " \"    (11,'ADAMS','ENGINEER',10,'03-15-1996',34000,NULL,2)\\n\",\n",
       " 'insert into emp values\\n',\n",
       " \"    (12,'WASHINGTON','ADMIN',6,'04-16-1998',18000,NULL,4)\\n\",\n",
       " 'insert into emp values\\n',\n",
       " \"    (13,'MONROE','ENGINEER',10,'12-03-2000',30000,NULL,2)\\n\",\n",
       " 'insert into emp values\\n',\n",
       " \"    (14,'ROOSEVELT','CPA',9,'10-12-1995',35000,NULL,1)\\n\",\n",
       " 'end\\n',\n",
       " 'CREATE TABLE dept (\\n',\n",
       " 'deptno INT NOT NULL,\\n',\n",
       " 'dname VARCHAR(14),\\n',\n",
       " 'loc VARCHAR(13))\\n',\n",
       " 'begin\\n',\n",
       " \"insert into dept values (1,'ACCOUNTING','ST LOUIS')\\n\",\n",
       " \"insert into dept values (2,'RESEARCH','NEW YORK')\\n\",\n",
       " \"insert into dept values (3,'SALES','ATLANTA')\\n\",\n",
       " \"insert into dept values (4, 'OPERATIONS','SEATTLE')\\n\",\n",
       " 'end']"
      ]
     },
     "execution_count": 64,
     "metadata": {},
     "output_type": "execute_result"
    }
   ],
   "source": [
    "sql_file = open('populate.sql')\n",
    "sql_contents = sql_file.readlines()\n",
    "sql_contents\n",
    "# returns a list"
   ]
  },
  {
   "cell_type": "code",
   "execution_count": 63,
   "metadata": {},
   "outputs": [],
   "source": [
    "with open('populate.sql') as sql_file:\n",
    "    sql_contents = sql_file.readlines()\n",
    "# the function with opens and closes the file"
   ]
  },
  {
   "cell_type": "code",
   "execution_count": 59,
   "metadata": {},
   "outputs": [
    {
     "name": "stdout",
     "output_type": "stream",
     "text": [
      "     Country      League     Season        Date   Time             Home  \\\n",
      "0  Argentina  Superliga   2012/2013  03/08/2012  23:00  Arsenal Sarandi   \n",
      "1  Argentina  Superliga   2012/2013  04/08/2012  01:10  Velez Sarsfield   \n",
      "2  Argentina  Superliga   2012/2013  04/08/2012  18:10      Racing Club   \n",
      "3  Argentina  Superliga   2012/2013  04/08/2012  20:10   Colon Santa FE   \n",
      "4  Argentina  Superliga   2012/2013  04/08/2012  22:15          Quilmes   \n",
      "\n",
      "                Away  HG  AG Res    PH    PD    PA  MaxH  MaxD  MaxA  AvgH  \\\n",
      "0  Union de Santa Fe   1   0   H  1.90  3.39  5.03  1.90  3.50  5.68  1.76   \n",
      "1     Argentinos Jrs   3   0   H  2.00  3.24  4.55  2.18  3.30  4.62  1.97   \n",
      "2       Atl. Rafaela   1   1   D  1.91  3.34  5.09  2.00  3.40  5.09  1.91   \n",
      "3              Lanus   1   0   H  2.50  3.16  3.27  2.54  3.16  3.36  2.39   \n",
      "4       Boca Juniors   3   0   H  3.18  3.13  2.58  3.37  3.13  2.58  3.07   \n",
      "\n",
      "   AvgD  AvgA  \n",
      "0  3.30  4.74  \n",
      "1  3.12  3.96  \n",
      "2  3.22  4.05  \n",
      "3  2.99  3.04  \n",
      "4  2.99  2.38  \n"
     ]
    }
   ],
   "source": [
    "import pandas as pd\n",
    "\n",
    "df = pd.read_csv('newleague.csv')\n",
    "print(df.head())"
   ]
  },
  {
   "cell_type": "markdown",
   "metadata": {},
   "source": [
    "### Working with JSON in Python"
   ]
  },
  {
   "cell_type": "code",
   "execution_count": 66,
   "metadata": {},
   "outputs": [
    {
     "data": {
      "text/plain": [
       "'{\"name\": \"Alfredo\", \"age\": \"27\", \"data2\": [], \"valid\": true}'"
      ]
     },
     "execution_count": 66,
     "metadata": {},
     "output_type": "execute_result"
    }
   ],
   "source": [
    "import json\n",
    "# converting python to json\n",
    "data = {'name': 'Alfredo', 'age' : '27', 'data2' : [], 'valid' : True}\n",
    "json.dumps(data)"
   ]
  },
  {
   "cell_type": "code",
   "execution_count": 68,
   "metadata": {},
   "outputs": [
    {
     "data": {
      "text/plain": [
       "dict"
      ]
     },
     "execution_count": 68,
     "metadata": {},
     "output_type": "execute_result"
    }
   ],
   "source": [
    "# loading json to python\n",
    "json_output = '{\"name\": \"Alfredo\", \"age\": \"27\", \"data2\": [], \"valid\": true}'\n",
    "loaded_json = json.loads(json_output)\n",
    "type(loaded_json)"
   ]
  },
  {
   "cell_type": "code",
   "execution_count": 69,
   "metadata": {},
   "outputs": [
    {
     "data": {
      "text/plain": [
       "True"
      ]
     },
     "execution_count": 69,
     "metadata": {},
     "output_type": "execute_result"
    }
   ],
   "source": [
    "loaded_json['valid']"
   ]
  },
  {
   "cell_type": "code",
   "execution_count": null,
   "metadata": {},
   "outputs": [],
   "source": [
    "with open('wine-ratings.json') as f:\n",
    "    loaded_json = json.load(f)\n",
    "    "
   ]
  },
  {
   "cell_type": "markdown",
   "metadata": {},
   "source": [
    "### Saving Data from Python to Disk"
   ]
  },
  {
   "cell_type": "code",
   "execution_count": 73,
   "metadata": {},
   "outputs": [],
   "source": [
    "import json\n",
    "data = {}\n",
    "with open('sample_data.json', 'w') as f: # w overwrites the file\n",
    "    json.dump(data, f)\n"
   ]
  },
  {
   "cell_type": "markdown",
   "metadata": {},
   "source": [
    "#### Serializing JSON"
   ]
  },
  {
   "cell_type": "code",
   "execution_count": 74,
   "metadata": {},
   "outputs": [],
   "source": [
    "# the JSON module can take certain Python data structures like dictionaries\n",
    "# and convert them to JSON\n",
    "import json"
   ]
  },
  {
   "cell_type": "code",
   "execution_count": 75,
   "metadata": {},
   "outputs": [],
   "source": [
    "# From Python, convert a dictionary into a JSON string\n",
    "data = {\"grape\": \"Cabernet Franc\",\n",
    "        \"species\": \"Vitis vinifera\",\n",
    "        \"origin\": \"Bordeaux, France\"}"
   ]
  },
  {
   "cell_type": "code",
   "execution_count": 76,
   "metadata": {},
   "outputs": [
    {
     "data": {
      "text/plain": [
       "'{\"grape\": \"Cabernet Franc\", \"species\": \"Vitis vinifera\", \"origin\": \"Bordeaux, France\"}'"
      ]
     },
     "execution_count": 76,
     "metadata": {},
     "output_type": "execute_result"
    }
   ],
   "source": [
    "# Convert Python data to JSON. The `.dumps()` method takes a data\n",
    "# structure as input and provides a JSON string as output\n",
    "# mnemonic: dumps -> DUMP to String\n",
    "json.dumps(data)"
   ]
  },
  {
   "cell_type": "code",
   "execution_count": 77,
   "metadata": {},
   "outputs": [
    {
     "data": {
      "text/plain": [
       "'{\"grape\": \"Cabernet Franc\", \"species\": \"Vitis vinifera\", \"origin\": \"Bordeaux, France\"}'"
      ]
     },
     "execution_count": 77,
     "metadata": {},
     "output_type": "execute_result"
    }
   ],
   "source": [
    "# Convert a JSON string into a Python data structure\n",
    "# first, define the json data with the string data\n",
    "json_data = json.dumps(data)\n",
    "json_data"
   ]
  },
  {
   "cell_type": "code",
   "execution_count": 78,
   "metadata": {},
   "outputs": [
    {
     "data": {
      "text/plain": [
       "{'grape': 'Cabernet Franc',\n",
       " 'species': 'Vitis vinifera',\n",
       " 'origin': 'Bordeaux, France'}"
      ]
     },
     "execution_count": 78,
     "metadata": {},
     "output_type": "execute_result"
    }
   ],
   "source": [
    "# Now load it into Python\n",
    "# mnemonic: loads -> LOAD from String\n",
    "json.loads(json_data)"
   ]
  },
  {
   "cell_type": "code",
   "execution_count": 79,
   "metadata": {},
   "outputs": [
    {
     "name": "stdout",
     "output_type": "stream",
     "text": [
      "[{'grape': 'Cabernet Franc', 'species': 'Vitis vinifera', 'origin': 'Bordeaux, France'}, {'grape': 'Cabernet Franc', 'species': 'Vitis vinifera', 'origin': 'Bordeaux, France'}]\n"
     ]
    },
    {
     "data": {
      "text/plain": [
       "'[{\"grape\": \"Cabernet Franc\", \"species\": \"Vitis vinifera\", \"origin\": \"Bordeaux, France\"}, {\"grape\": \"Cabernet Franc\", \"species\": \"Vitis vinifera\", \"origin\": \"Bordeaux, France\"}]'"
      ]
     },
     "execution_count": 79,
     "metadata": {},
     "output_type": "execute_result"
    }
   ],
   "source": [
    "# Python dictionaries are not the only data structure allowed.\n",
    "# Use lists as well\n",
    "collection = [data, data]\n",
    "print(collection)\n",
    "# may look similar in the output, but the difference is that JSON is\n",
    "# now a string\n",
    "json.dumps(collection)"
   ]
  },
  {
   "cell_type": "markdown",
   "metadata": {},
   "source": [
    "#### JSON formatting\n",
    "\n",
    "The `json` module in Python allows more than just loading and parsing JSON. It can be used to format it nicely. Formatting is crucial when dealing with nested data (a dictionary within a dictionary for example).\n",
    "\n",
    "It is common for HTTP APIs and JSON files to present JSON as a single line. In this section, you will use formatting options in the JSON module to improve the readability of nested information in JSON."
   ]
  },
  {
   "cell_type": "code",
   "execution_count": 80,
   "metadata": {},
   "outputs": [
    {
     "name": "stdout",
     "output_type": "stream",
     "text": [
      "{\n",
      "    \"name\": \"Cabernet France\",\n",
      "    \"regions\": [\n",
      "        {\n",
      "            \"country\": \"France\",\n",
      "            \"sub-regions\": [\n",
      "                \"Bordeaux\",\n",
      "                \"Loire Valley\"\n",
      "            ]\n",
      "        },\n",
      "        {\n",
      "            \"country\": \"Italy\",\n",
      "            \"sub-regions\": [\n",
      "                \"Apulia\",\n",
      "                \"Tuscany\"\n",
      "            ]\n",
      "        },\n",
      "        {\n",
      "            \"country\": \"Argentina\",\n",
      "            \"sub-regions\": [\n",
      "                \"Mendoza\",\n",
      "                \"Lujan de Cuyo\",\n",
      "                \"Salta\"\n",
      "            ]\n",
      "        }\n",
      "    ]\n",
      "}\n"
     ]
    }
   ],
   "source": [
    "# define a nested data structure in a single line\n",
    "grape_data = {\"name\": \"Cabernet France\", \"regions\": [{\"country\": \"France\", \"sub-regions\": [\"Bordeaux\", \"Loire Valley\"]},{\"country\": \"Italy\", \"sub-regions\": [\"Apulia\", \"Tuscany\"]}, {\"country\": \"Argentina\", \"sub-regions\": [\"Mendoza\", \"Lujan de Cuyo\", \"Salta\"]}]} \n",
    "# Serialize the Python dictionary to a JSON string, but using extra formatting options, like sorted keys\n",
    "# and using 4 spaces for indentation\n",
    "data_as_json = json.dumps(grape_data, sort_keys=True, indent=4)\n",
    "print(data_as_json)"
   ]
  },
  {
   "cell_type": "code",
   "execution_count": 81,
   "metadata": {},
   "outputs": [
    {
     "name": "stdout",
     "output_type": "stream",
     "text": [
      "{\n",
      "  \"name\": \"Cabernet France\",\n",
      "  \"regions\": [\n",
      "    {\n",
      "      \"country\": \"France\",\n",
      "      \"sub-regions\": [\n",
      "        \"Bordeaux\",\n",
      "        \"Loire Valley\"\n",
      "      ]\n",
      "    },\n",
      "    {\n",
      "      \"country\": \"Italy\",\n",
      "      \"sub-regions\": [\n",
      "        \"Apulia\",\n",
      "        \"Tuscany\"\n",
      "      ]\n",
      "    },\n",
      "    {\n",
      "      \"country\": \"Argentina\",\n",
      "      \"sub-regions\": [\n",
      "        \"Mendoza\",\n",
      "        \"Lujan de Cuyo\",\n",
      "        \"Salta\"\n",
      "      ]\n",
      "    }\n",
      "  ]\n",
      "}\n"
     ]
    }
   ],
   "source": [
    "# Try other variations like indenting 2 spaces and not sorting keys:\n",
    "data_as_json = json.dumps(grape_data, sort_keys=False, indent=2)\n",
    "print(data_as_json)"
   ]
  },
  {
   "cell_type": "markdown",
   "metadata": {},
   "source": [
    "#### Serialize JSON from a file\n",
    "\n",
    "Python can read JSON files and load them as Python data structures, which can also be saved back to the file system as a valid JSON file. In the next few cells, read a JSON file from the file system, and then use the json module to parse the JSON and load it into Python.\n",
    "\n",
    "The process of reading a foreign format like JSON and loading it into Python is called serializing it."
   ]
  },
  {
   "cell_type": "code",
   "execution_count": 82,
   "metadata": {},
   "outputs": [
    {
     "data": {
      "text/plain": [
       "True"
      ]
     },
     "execution_count": 82,
     "metadata": {},
     "output_type": "execute_result"
    }
   ],
   "source": [
    "# There are JSON files in the directory. When working with paths, \n",
    "# always ensure these paths are reachable and correct\n",
    "import os\n",
    "os.path.exists('wine-ratings.json')"
   ]
  },
  {
   "cell_type": "code",
   "execution_count": 83,
   "metadata": {},
   "outputs": [
    {
     "name": "stdout",
     "output_type": "stream",
     "text": [
      "dict_keys(['name', 'grape', 'region', 'variety', 'rating', 'notes'])\n",
      "Number of items: 780\n"
     ]
    }
   ],
   "source": [
    "# read the JSON file and then parse it using the `.load()` method\n",
    "# note the subtle difference, this is the `.load()` method (no 's'), not\n",
    "#  `.loads()`\n",
    "with open('wine-ratings.json') as f:\n",
    "    loaded_json = json.load(f)\n",
    "print(loaded_json.keys())\n",
    "print(f\"Number of items: {len(loaded_json['name'])}\")"
   ]
  },
  {
   "cell_type": "markdown",
   "metadata": {},
   "source": [
    "#### Serialize from Python to a JSON file\n",
    "\n",
    "Now that you've loaded JSON from a file into Python, do some data sampling, extract some interesting fields and then save the newly manipulated data to a file on disk as JSON."
   ]
  },
  {
   "cell_type": "code",
   "execution_count": 84,
   "metadata": {},
   "outputs": [
    {
     "data": {
      "text/plain": [
       "780"
      ]
     },
     "execution_count": 84,
     "metadata": {},
     "output_type": "execute_result"
    }
   ],
   "source": [
    "# sample some items from the json file and then save it as a new file\n",
    "names = loaded_json['name']\n",
    "len(names)"
   ]
  },
  {
   "cell_type": "code",
   "execution_count": 85,
   "metadata": {},
   "outputs": [
    {
     "data": {
      "text/plain": [
       "['Laurenz V Charming Gruner Veltliner 2013',\n",
       " 'Laurenz V Charming Gruner Veltliner 2014',\n",
       " 'Laurenz V Singing Gruner Veltliner 2007',\n",
       " 'Laurenz V Singing Gruner Veltliner 2010',\n",
       " 'Laurenz V Singing Gruner Veltliner 2011',\n",
       " 'Laurenz V Singing Gruner Veltliner 2013',\n",
       " 'Lava Cap American River Red',\n",
       " 'Lava Cap Barbera 2010',\n",
       " 'Lava Cap Battonage Chardonnay 2012',\n",
       " 'Lava Cap Cabernet Sauvignon 2013',\n",
       " 'Lava Cap Cabernet Sauvignon 2016',\n",
       " 'Lava Cap Petite Sirah 2013',\n",
       " 'Lava Cap Petite Sirah 2014',\n",
       " 'Lava Cap Petite Sirah 2016',\n",
       " 'Lava Cap Reserve Chardonnay 2015',\n",
       " 'Lava Cap Reserve Chardonnay 2018',\n",
       " 'Lava Cap Reserve Chardonnay 2016',\n",
       " 'Lava Cap Reserve Merlot 2015',\n",
       " 'Lava Cap Sauvignon Blanc 2015',\n",
       " 'Lava Cap Sauvignon Blanc 2017',\n",
       " 'Lava Cap Syrah 2009',\n",
       " 'Lava Cap Syrah 2014',\n",
       " 'Lava Cap Syrah 2013',\n",
       " 'Lava Vine Winery Knights Valley Reserve Cabernet Sauvignon 2013',\n",
       " 'Lava Vine Winery Napa Valley Cabernet Sauvignon 2014',\n",
       " 'Lava Vine Winery Napa Valley Reserve Cabernet Sauvignon 2012',\n",
       " 'Lava Vine Winery Napa Valley Reserve Cabernet Sauvignon 2013',\n",
       " 'Lavau Chateauneuf-du-Pape 2016',\n",
       " 'Lavau Chateauneuf-du-Pape 2014',\n",
       " 'Lavau Chateauneuf-du-Pape 2015',\n",
       " 'Lavau Gigondas 2013',\n",
       " 'Lavau Gigondas 2013',\n",
       " 'Lavau Gigondas 2014',\n",
       " 'Lavau Gigondas 2015',\n",
       " 'Lavau Gigondas 2016',\n",
       " 'Lavau Rasteau 2015',\n",
       " 'Lavau Rasteau 2016',\n",
       " \"L'Aventure Cabernet Sauvignon 2006\",\n",
       " \"L'Aventure Chloe 2014\",\n",
       " \"L'Aventure Cote A Cote 2006\",\n",
       " \"L'Aventure Cote A Cote 2007\",\n",
       " \"L'Aventure Cote A Cote 2010\",\n",
       " \"L'Aventure Cote A Cote 2011\",\n",
       " \"L'Aventure Cote A Cote 2014\",\n",
       " \"L'Aventure Cote A Cote (slightly stained labels) 2012\",\n",
       " \"L'Aventure Estate Cuvee (1.5 Liter Magnum) 2008\",\n",
       " \"L'Aventure Estate Cuvee 2004\",\n",
       " \"L'Aventure Estate Cuvee 2005\",\n",
       " \"L'Aventure Estate Cuvee 2006\",\n",
       " \"L'Aventure Estate Cuvee 2007\",\n",
       " \"L'Aventure Estate Cuvee 2008\",\n",
       " \"L'Aventure Estate Cuvee 2010\",\n",
       " \"L'Aventure Estate Cuvee 2011\",\n",
       " \"L'Aventure Estate Cuvee 2013\",\n",
       " \"L'Aventure Estate Cuvee 2012\",\n",
       " \"L'Aventure Estate Cuvee 2014\",\n",
       " \"L'Aventure Estate Cuvee 2016\",\n",
       " \"L'Aventure Optimus (1.5 Liter Magnum) 2012\",\n",
       " \"L'Aventure Optimus 2005\",\n",
       " \"L'Aventure Optimus 2007\",\n",
       " \"L'Aventure Optimus 2008\",\n",
       " \"L'Aventure Optimus 2011\",\n",
       " \"L'Aventure Optimus 2015\",\n",
       " \"L'Aventure Optimus 2016\",\n",
       " \"L'Aventure Optimus 2017\",\n",
       " \"L'Aventure Optimus 2012\",\n",
       " 'Lavinea Elton Chardonnay 2016',\n",
       " 'Lavinea Elton Pinot Noir 2016',\n",
       " 'Lavinea Lazy River Pinot Noir 2016',\n",
       " 'Lavinea Nysa Pinot Noir 2016',\n",
       " 'Lavinea Tualatin Pinot Noir 2016',\n",
       " 'Lavinea Tualatin Pinot Noir 2017',\n",
       " 'Lavradores de Feitoria Tres Bagos 2003',\n",
       " 'Lavradores de Feitoria Tres Bagos 2004',\n",
       " 'Law Estate Wines Audacious 2016',\n",
       " 'Law Estate Wines Sagacious 2016',\n",
       " \"Lawson's Dry Hills Gewurztraminer 2009\",\n",
       " \"Lawson's Dry Hills Gewurztraminer 2014\",\n",
       " \"Lawson's Dry Hills Pinot Noir 2005\",\n",
       " \"Lawson's Dry Hills Sauvignon Blanc 2014\",\n",
       " 'Layer Cake Cabernet Sauvignon 2010',\n",
       " 'Layer Cake Chardonnay 2011',\n",
       " 'Layer Cake Garnacha 2011',\n",
       " 'Layer Cake Malbec 2008',\n",
       " 'Layer Cake Primitivo aka Zinfandel 2008',\n",
       " 'Layer Cake Shiraz 2008',\n",
       " 'Layer Cake Shiraz 2009',\n",
       " 'Layer Cake Shiraz 2014',\n",
       " 'Layer Cake Shiraz 2013',\n",
       " 'Layer Cake Shiraz 2010',\n",
       " 'Layer Cake Virgin Chardonnay 2009',\n",
       " 'Le Berne Vino Nobile di Montepulciano 2011',\n",
       " 'Le Bonheur Cabernet Sauvignon 1997',\n",
       " 'Le Bonheur Chardonnay 1999',\n",
       " 'Le Brun de Neuville Authentique Brut Assemblage',\n",
       " 'Le Cadeau Vineyard Diversite Pinot Noir 2014',\n",
       " 'Le Cadeau Vineyard Diversite Pinot Noir 2015',\n",
       " 'Le Cadeau Vineyard Rocheux Pinot Noir 2015',\n",
       " 'Le Cadeau Vineyard Rocheux Pinot Noir 2016',\n",
       " 'Le Cadeau Vineyard Rocheux Reserve Pinot Noir 2014',\n",
       " 'Le Carre 2007',\n",
       " 'Le Carre 2008',\n",
       " 'Le Carre 2009',\n",
       " 'Le Carre 2010',\n",
       " 'Le Carre 2011',\n",
       " 'Le Carre 2012',\n",
       " 'Le Casematte Faro 2014',\n",
       " 'Le Casematte Faro 2013',\n",
       " 'Le Casematte Faro 2016',\n",
       " \"Le Casematte Nero d'Avola 2015\",\n",
       " 'Le Casematte Peloro Rosso 2014',\n",
       " 'Le Casematte Peloro Rosso 2015',\n",
       " 'Le Casematte Peloro Bianco 2017',\n",
       " 'Le Casematte Peloro Rosso 2017',\n",
       " 'Le Charmel Rhone Blend 2011',\n",
       " 'Le Chiuse Brunello di Montalcino 2008',\n",
       " 'Le Chiuse Brunello di Montalcino 2010',\n",
       " 'Le Chiuse Brunello di Montalcino 2011',\n",
       " 'Le Chiuse Brunello di Montalcino 2012',\n",
       " 'Le Chiuse Brunello di Montalcino 2013',\n",
       " 'Le Chiuse Brunello di Montalcino 2015',\n",
       " 'Le Chiuse Brunello di Montalcino (375ML half-bottle) 2011',\n",
       " 'Le Chiuse Brunello di Montalcino (375ML half-bottle) 2013',\n",
       " 'Le Chiuse Brunello di Montalcino (375ML half-bottle) 2012',\n",
       " 'Le Chiuse Brunello di Montalcino Riserva 2006',\n",
       " 'Le Chiuse Brunello di Montalcino Riserva 2009',\n",
       " 'Le Chiuse Rosso di Montalcino 2015',\n",
       " 'Le Chiuse Rosso di Montalcino 2017',\n",
       " 'Le Cirque Grenache Gris 2014',\n",
       " 'Le Cirque Grenache Gris 2015',\n",
       " 'Le Cirque Rouge 2014',\n",
       " \"Le Clos d'un Jour Un Jour sur Terre Cahors 2005\",\n",
       " 'Le Colture Brut Rose',\n",
       " 'Le Colture Fagher Prosecco Superiore Brut',\n",
       " 'Le Colture Prosecco Superiore di Cartizze',\n",
       " 'Le Corti Chianti Classico 2011',\n",
       " 'Le Corti Chianti Classico 2012',\n",
       " 'Le Corti Chianti Classico 2013',\n",
       " 'Le Corti Don Tommaso Chianti Classico 2007',\n",
       " 'Le Corti Chianti Classico 2016',\n",
       " 'Le Corti Don Tommaso Chianti Classico 2008',\n",
       " 'Le Corti Don Tommaso Chianti Classico 2013',\n",
       " 'Le Corti Don Tommaso Chianti Classico 2014',\n",
       " 'Le Corti Don Tommaso Chianti Classico 2009',\n",
       " 'Le Corti Tenuta Birillo Rosso 2010',\n",
       " \"Le Domaine D'Henri Chablis Fourchaume Premier Cru 2014\",\n",
       " \"Le Domaine D'Henri Chablis Fourchaume Premier Cru 2015\",\n",
       " \"Le Domaine D'Henri Chablis Fourchaume Premier Cru Vieilles Vignes 2014\",\n",
       " 'Le Dome 2006',\n",
       " 'Le Dome 2008',\n",
       " 'Le Dome 2009',\n",
       " 'Le Dome 2011',\n",
       " 'Le Dome 2012',\n",
       " 'Le Due Terre Colli Orientali del Friuli Sacrisassi 2005',\n",
       " 'Le Due Terre Colli Orientali del Friuli Sacrisassi 2007',\n",
       " 'Le Dome 2016',\n",
       " 'Le Dome 2010',\n",
       " 'Le Dome 2014',\n",
       " 'Le Fonti Chianti Classico 2009',\n",
       " 'Le Grand Courtage Blanc de Blancs Brut Bedazzled Bottle',\n",
       " 'Le Grand Courtage Rose Brut Bedazzled Bottle',\n",
       " 'Le Jas des Papes Chateauneuf-du-Pape 2010',\n",
       " 'Le Macchiole (1.5 Liter Magnum) 2013',\n",
       " 'Le Macchiole 1999',\n",
       " 'Le Macchiole 2006',\n",
       " 'Le Macchiole 2005',\n",
       " 'Le Macchiole 2008',\n",
       " 'Le Macchiole 2006',\n",
       " 'Le Macchiole 2009',\n",
       " 'Le Macchiole 2010',\n",
       " 'Le Macchiole 2013',\n",
       " 'Le Macchiole Messorio (1.5 Liter Magnum) 2010',\n",
       " 'Le Macchiole 2012',\n",
       " 'Le Macchiole Messorio 2000',\n",
       " 'Le Macchiole Messorio 2002',\n",
       " 'Le Macchiole Messorio 2003',\n",
       " 'Le Macchiole Messorio 2005',\n",
       " 'Le Macchiole Messorio 2007',\n",
       " 'Le Macchiole Messorio 2009',\n",
       " 'Le Macchiole Messorio 2010',\n",
       " 'Le Macchiole Messorio 2012',\n",
       " 'Le Macchiole Messorio 2011',\n",
       " 'Le Macchiole Messorio 2013',\n",
       " 'Le Macchiole Messorio 2014',\n",
       " 'Le Macchiole Paleo (1.5 Liter Magnum) 2007',\n",
       " 'Le Macchiole Paleo (1.5 Liter Magnum) 2009',\n",
       " 'Le Macchiole Paleo (1.5 Liter Magnum) 2011',\n",
       " 'Le Macchiole Paleo 1998',\n",
       " 'Le Macchiole Paleo 2003',\n",
       " 'Le Macchiole Paleo 2001',\n",
       " 'Le Macchiole Paleo 2004',\n",
       " 'Le Macchiole Paleo 2005',\n",
       " 'Le Macchiole Paleo 2007',\n",
       " 'Le Macchiole Paleo 2008',\n",
       " 'Le Macchiole Paleo 2009',\n",
       " 'Le Macchiole Paleo 2010',\n",
       " 'Le Macchiole Paleo 2011',\n",
       " 'Le Macchiole Paleo 2012',\n",
       " 'Le Macchiole Paleo 2013',\n",
       " 'Le Macchiole Paleo 2014',\n",
       " 'Le Macchiole Paleo (3 Liter Bottle) 2011',\n",
       " 'Le Macchiole Paleo Bianco 2007',\n",
       " 'Le Macchiole Paleo Bianco 2013',\n",
       " 'Le Macchiole Paleo Bianco 2015',\n",
       " 'Le Macchiole Paleo Bianco 2016',\n",
       " 'Le Macchiole Paleo Bianco 2017',\n",
       " 'Le Macchiole Scrio 2004',\n",
       " 'Le Macchiole Scrio 2001',\n",
       " 'Le Macchiole Scrio 2005',\n",
       " 'Le Macchiole Scrio 2006',\n",
       " 'Le Macchiole Scrio 2010',\n",
       " 'Le Macchiole Scrio 2012',\n",
       " 'Le Macchiole Scrio 2011',\n",
       " 'Le Macchiole Scrio 2013',\n",
       " 'Le Mistral 2008',\n",
       " 'Le Paradou Grenache 2012',\n",
       " 'Le Macchiole Scrio 2015',\n",
       " 'Le Potazzine Gorelli Brunello di Montalcino 1997',\n",
       " 'Le Potazzine Gorelli Brunello di Montalcino 2008',\n",
       " 'Le Potazzine Gorelli Brunello di Montalcino 2009',\n",
       " 'Le Potazzine Gorelli Brunello di Montalcino 2011',\n",
       " 'Le Potazzine Gorelli Brunello di Montalcino 2010',\n",
       " 'Le Potazzine Gorelli Brunello di Montalcino 2012',\n",
       " 'Le Potazzine Rosso di Montalcino 2012',\n",
       " 'Le Potazzine Gorelli Brunello di Montalcino 2013',\n",
       " 'Le Potazzine Rosso di Montalcino 2014',\n",
       " 'Le Potazzine Rosso di Montalcino 2015',\n",
       " 'Le Potazzine Rosso di Montalcino 2017',\n",
       " \"Le P'tit Paysan Jack's Hill Chardonnay 2011\",\n",
       " \"Le P'tit Paysan Jack's Hill Chardonnay 2013\",\n",
       " \"Le P'tit Paysan Jack's Hill Chardonnay 2015\",\n",
       " \"Le P'tit Paysan La Marea Albarino 2014\",\n",
       " \"Le P'tit Paysan La Marea Albarino 2015\",\n",
       " \"Le P'tit Paysan La Marea Grenache 2013\",\n",
       " \"Le P'tit Paysan Le P'tit Pape 2011\",\n",
       " \"Le P'tit Paysan Le P'tit Pape 2013\",\n",
       " \"Le P'tit Paysan Le P'tit Pape 2012\",\n",
       " \"Le P'tit Paysan Le P'tit Pape 2014\",\n",
       " \"Le P'tit Paysan Le P'tit Pape 2015\",\n",
       " \"Le P'tit Paysan Le P'tit Pape 2016\",\n",
       " \"Le P'tit Paysan Le P'tit Pape 2017\",\n",
       " \"Le P'tit Paysan Petite Sirah 2011\",\n",
       " \"Le P'tit Paysan Petite Sirah 2013\",\n",
       " \"Le P'tit Paysan Rose 2018\",\n",
       " 'Le Ragnaie Brunello di Montalcino 2010',\n",
       " 'Le Ragose Amarone Della Valpolicella 2004',\n",
       " 'Le Ragose Amarone Della Valpolicella 2005',\n",
       " 'Le Roi des Pierres Sancerre 2014',\n",
       " 'Le Roi des Pierres Sancerre 2015',\n",
       " 'Le Roi des Pierres Sancerre 2016',\n",
       " 'Le Roi des Pierres Sancerre Rose 2016',\n",
       " 'Le Salette Amarone Classico 2011',\n",
       " 'Le Salette Amarone Classico 2012',\n",
       " 'Le Salette Amarone Classico 2013',\n",
       " 'Le Salette Amarone della Valpolicella Pergole Vece Recioto (500ML) 2011',\n",
       " 'Le Salette La Marega Amarone 2011',\n",
       " 'Le Salette La Marega Amarone 2012',\n",
       " 'Le Salette La Marega Amarone 2013',\n",
       " 'Le Salette Pergole Vece Amarone 2008',\n",
       " 'Le Salette Pergole Vece Amarone 2011',\n",
       " 'Le Salette Pergole Vece Amarone 2012',\n",
       " 'Le Salette Pergole Vece Amarone 2015',\n",
       " 'Le Salette Valpolicella Classico 2012',\n",
       " 'Le Terrazze Rosso Conero 2009',\n",
       " 'Le Vieux Donjon Chateauneuf-du-Pape (1.5 Liter Magnum) 2003',\n",
       " 'Le Vieux Donjon Chateauneuf-du-Pape (1.5 Liter Magnum) 2005',\n",
       " 'Le Vieux Donjon Chateauneuf-du-Pape (1.5 Liter Magnum) 2012',\n",
       " 'Le Vieux Donjon Chateauneuf-du-Pape (1.5 Liter Magnum) 2015',\n",
       " 'Le Vieux Donjon Chateauneuf-du-Pape 2001',\n",
       " 'Le Vieux Donjon Chateauneuf-du-Pape 2003',\n",
       " 'Le Vieux Donjon Chateauneuf-du-Pape 2006',\n",
       " 'Le Vieux Donjon Chateauneuf-du-Pape 2007',\n",
       " 'Le Vieux Donjon Chateauneuf-du-Pape 2012',\n",
       " 'Le Vieux Donjon Chateauneuf-du-Pape 2013',\n",
       " 'Le Vieux Donjon Chateauneuf-du-Pape 2016',\n",
       " 'Le Vieux Donjon Chateauneuf-du-Pape (375ML half-bottle) 2006',\n",
       " 'Le Vieux Donjon Chateauneuf-du-Pape (375ML half-bottle) 2012',\n",
       " 'Le Vieux Donjon Chateauneuf-du-Pape Blanc 2006',\n",
       " 'Le Vigne di Eli Etna Bianco 2012',\n",
       " 'Le Vigne di Eli Etna Rosso 2012',\n",
       " 'Le Vigne di Eli Moganazzi-Volta Sciara Etna Rosso 2014',\n",
       " 'Le Vigne di Eli Moganazzi-Volta Sciara Etna Rosso 2016',\n",
       " 'Le Vigne Winery Paso Robles Cabernet Sauvignon 2016',\n",
       " 'Lea Wines Sta. Rita Hills Pinot Noir 2013',\n",
       " 'Lea Wines Sta. Rita Hills Pinot Noir 2014',\n",
       " \"Leacock's 10 Year Bual Madiera\",\n",
       " \"Leacock's Bual 1966\",\n",
       " \"Leacock's Rainwater Madeira\",\n",
       " 'Leaping Lizard Cabernet Sauvignon 2007',\n",
       " 'Leasingham Bin 61 Shiraz 1997',\n",
       " 'Leasingham Bin 61 Shiraz 1999',\n",
       " 'Leasingham Bin 61 Shiraz 2001',\n",
       " 'Leasingham Bin 61 Shiraz 2002',\n",
       " 'Leasingham Bin 61 Shiraz 2000',\n",
       " 'Leasingham Bin 61 Shiraz 1998',\n",
       " 'Leasingham Bin 7 Riesling 2001',\n",
       " 'Leasingham Bin 7 Riesling 2003',\n",
       " 'Leasingham Bin 7 Riesling 2004',\n",
       " 'Leasingham Bin 7 Riesling 2005',\n",
       " 'Leasingham Clare Classic Cabernet Sauvignon 1997',\n",
       " 'Leasingham Clare Classic Shiraz 1997',\n",
       " 'Leasingham Clare Classic Shiraz 1998',\n",
       " 'Leasingham Clare Classic Shiraz 2001',\n",
       " 'Leasingham Clare Valley Bin 56 Cabernet Sauvignon 1999',\n",
       " 'Leasingham Magnus Riesling 2003',\n",
       " 'Leasingham Magnus Riesling 2006',\n",
       " 'Leasingham Magnus Riesling 2007',\n",
       " 'Leasingham Magnus Riesling 2004',\n",
       " 'Lecheneaut Gevrey-Chambertin 2015',\n",
       " 'Lecheneaut Gevrey-Chambertin 2014',\n",
       " 'Lecheneaut Morey-Saint-Denis 2012',\n",
       " 'Lecheneaut Morey-Saint-Denis 2016',\n",
       " 'Lecheneaut Morey-St-Denis 2014',\n",
       " 'Lecheneaut Morey-St-Denis 2015',\n",
       " 'Lecheneaut Nuits-St. Georges 2014',\n",
       " 'Lecheneaut Nuits-St. Georges 2015',\n",
       " 'Lecheneaut Nuits-St. Georges Damodes Premier Cru 2011',\n",
       " 'Lecheneaut Nuits-St. Georges Damodes Premier Cru 2014',\n",
       " 'Lecheneaut Nuits-St. Georges Damodes Premier Cru 2015',\n",
       " 'Lecheneaut Nuits-St. Georges Damodes Premier Cru 2016',\n",
       " 'Lecheneaut Nuits-St-Georges Les Pruliers Premier Cru 2015',\n",
       " \"L'Ecole 41 Barrel Fermented Semillon 2002\",\n",
       " \"L'Ecole 41 Barrel Fermented Semillon 2004\",\n",
       " \"L'Ecole 41 Chardonnay 2004\",\n",
       " \"L'Ecole 41 Chardonnay 2006\",\n",
       " \"L'Ecole 41 Chardonnay 2005\",\n",
       " \"L'Ecole 41 Chardonnay 2008\",\n",
       " \"L'Ecole 41 Chardonnay 2009\",\n",
       " \"L'Ecole 41 Chardonnay 2007\",\n",
       " \"L'Ecole 41 Chardonnay 2012\",\n",
       " \"L'Ecole 41 Chardonnay 2013\",\n",
       " \"L'Ecole 41 Chardonnay 2014\",\n",
       " \"L'Ecole 41 Chardonnay 2015\",\n",
       " \"L'Ecole 41 Chardonnay 2016\",\n",
       " \"L'Ecole 41 Chardonnay 2018\",\n",
       " \"L'Ecole 41 Columbia Valley Cabernet Sauvignon 2007\",\n",
       " \"L'Ecole 41 Columbia Valley Cabernet Sauvignon 2011\",\n",
       " \"L'Ecole 41 Columbia Valley Cabernet Sauvignon 2012\",\n",
       " \"L'Ecole 41 Columbia Valley Cabernet Sauvignon 2015\",\n",
       " \"L'Ecole 41 Columbia Valley Merlot 2000\",\n",
       " \"L'Ecole 41 Columbia Valley Merlot 2003\",\n",
       " \"L'Ecole 41 Columbia Valley Merlot 2004\",\n",
       " \"L'Ecole 41 Columbia Valley Merlot 2005\",\n",
       " \"L'Ecole 41 Columbia Valley Merlot 2006\",\n",
       " \"L'Ecole 41 Columbia Valley Merlot 2007\",\n",
       " \"L'Ecole 41 Columbia Valley Merlot 2010\",\n",
       " \"L'Ecole 41 Columbia Valley Merlot 2011\",\n",
       " \"L'Ecole 41 Columbia Valley Merlot 2012\",\n",
       " \"L'Ecole 41 Columbia Valley Merlot 2013\",\n",
       " \"L'Ecole 41 Columbia Valley Merlot 2008\",\n",
       " \"L'Ecole 41 Columbia Valley Merlot 2014\",\n",
       " \"L'Ecole 41 Columbia Valley Merlot 2016\",\n",
       " \"L'Ecole 41 Columbia Valley Syrah 2012\",\n",
       " \"L'Ecole 41 Columbia Valley Syrah 2014\",\n",
       " \"L'Ecole 41 Columbia Valley Syrah 2013\",\n",
       " \"L'Ecole 41 Columbia Valley Syrah 2015\",\n",
       " \"L'Ecole 41 Columbia Valley Syrah 2016\",\n",
       " \"L'Ecole 41 Ferguson Estate Red 2012\",\n",
       " \"L'Ecole 41 Ferguson Estate Red 2013\",\n",
       " \"L'Ecole 41 Ferguson Estate Red 2014\",\n",
       " \"L'Ecole 41 Ferguson Estate Red 2017\",\n",
       " \"L'Ecole 41 Fries Vineyard Semillon 2002\",\n",
       " \"L'Ecole 41 Fries Vineyard Semillon 2003\",\n",
       " \"L'Ecole 41 Luminesce Seven Hills Vineyard 2007\",\n",
       " \"L'Ecole 41 Luminesce Seven Hills Vineyard 2008\",\n",
       " \"L'Ecole 41 Luminesce Seven Hills Vineyard 2009\",\n",
       " \"L'Ecole 41 Luminesce Seven Hills Vineyard 2010\",\n",
       " \"L'Ecole 41 Luminesce Seven Hills Vineyard 2012\",\n",
       " \"L'Ecole 41 Luminesce Seven Hills Vineyard 2011\",\n",
       " \"L'Ecole 41 Luminesce Seven Hills Vineyard 2013\",\n",
       " \"L'Ecole 41 Luminesce Seven Hills Vineyard 2014\",\n",
       " \"L'Ecole 41 Luminesce Seven Hills Vineyard 2016\",\n",
       " \"L'Ecole 41 Old Vines Chenin Blanc 2011\",\n",
       " \"L'Ecole 41 Old Vines Chenin Blanc 2010\",\n",
       " \"L'Ecole 41 Old Vines Chenin Blanc 2014\",\n",
       " \"L'Ecole 41 Old Vines Chenin Blanc 2013\",\n",
       " \"L'Ecole 41 Old Vines Chenin Blanc 2012\",\n",
       " \"L'Ecole 41 Old Vines Chenin Blanc 2015\",\n",
       " \"L'Ecole 41 Old Vines Chenin Blanc 2016\",\n",
       " \"L'Ecole 41 Pepper Bridge Vineyard Apogee 2001\",\n",
       " \"L'Ecole 41 Pepper Bridge Vineyard Apogee 2006\",\n",
       " \"L'Ecole 41 Pepper Bridge Vineyard Apogee 2008\",\n",
       " \"L'Ecole 41 Pepper Bridge Vineyard Apogee 2007\",\n",
       " \"L'Ecole 41 Pepper Bridge Vineyard Apogee 2012\",\n",
       " \"L'Ecole 41 Pepper Bridge Vineyard Apogee 2013\",\n",
       " \"L'Ecole 41 Pepper Bridge Vineyard Apogee 2014\",\n",
       " \"L'Ecole 41 Semillon 2005\",\n",
       " \"L'Ecole 41 Semillon 2006\",\n",
       " \"L'Ecole 41 Semillon 2007\",\n",
       " \"L'Ecole 41 Semillon 2008\",\n",
       " \"L'Ecole 41 Semillon 2010\",\n",
       " \"L'Ecole 41 Semillon 2009\",\n",
       " \"L'Ecole 41 Semillon 2012\",\n",
       " \"L'Ecole 41 Semillon 2013\",\n",
       " \"L'Ecole 41 Semillon 2015\",\n",
       " \"L'Ecole 41 Semillon 2018\",\n",
       " \"L'Ecole 41 Seven Hills Vineyard Estate Syrah 2001\",\n",
       " \"L'Ecole 41 Seven Hills Vineyard Estate Syrah 2011\",\n",
       " \"L'Ecole 41 Seven Hills Vineyard Estate Syrah 2014\",\n",
       " \"L'Ecole 41 Seven Hills Vineyard Estate Syrah 2015\",\n",
       " \"L'Ecole 41 Seven Hills Vineyard Merlot 2000\",\n",
       " \"L'Ecole 41 Seven Hills Vineyard Merlot 2001\",\n",
       " \"L'Ecole 41 Seven Hills Vineyard Merlot 2000\",\n",
       " \"L'Ecole 41 Seven Hills Vineyard Merlot 2002\",\n",
       " \"L'Ecole 41 Seven Hills Vineyard Merlot 2005\",\n",
       " \"L'Ecole 41 Seven Hills Vineyard Merlot 2007\",\n",
       " \"L'Ecole 41 Seven Hills Vineyard Perigee 2002\",\n",
       " \"L'Ecole 41 Seven Hills Vineyard Perigee 2007\",\n",
       " \"L'Ecole 41 Seven Hills Vineyard Perigee 2011\",\n",
       " \"L'Ecole 41 Seven Hills Vineyard Perigee 2012\",\n",
       " \"L'Ecole 41 Seven Hills Vineyard Perigee 2014\",\n",
       " \"L'Ecole 41 Seven Hills Vineyard Perigee 2015\",\n",
       " \"L'Ecole 41 Seven Hills Vineyard Perigee 2013\",\n",
       " \"L'Ecole 41 Walla Voila Chenin Blanc 2009\",\n",
       " \"L'Ecole 41 Walla Walla Valley Cabernet Sauvignon 1998\",\n",
       " \"L'Ecole 41 Walla Walla Valley Cabernet Sauvignon 2000\",\n",
       " \"L'Ecole 41 Walla Walla Valley Cabernet Sauvignon 2001\",\n",
       " \"L'Ecole 41 Walla Walla Valley Cabernet Sauvignon 2007\",\n",
       " \"L'Ecole 41 Walla Walla Valley Cabernet Sauvignon 2009\",\n",
       " \"L'Ecole 41 Walla Walla Valley Cabernet Sauvignon 2010\",\n",
       " \"L'Ecole 41 Walla Walla Valley Cabernet Sauvignon 2011\",\n",
       " \"L'Ecole 41 Walla Walla Valley Cabernet Sauvignon 2012\",\n",
       " \"L'Ecole 41 Walla Walla Valley Cabernet Sauvignon 2013\",\n",
       " \"L'Ecole 41 Walla Walla Valley Cabernet Sauvignon 2014\",\n",
       " \"L'Ecole 41 Walla Walla Valley Cabernet Sauvignon 2016\",\n",
       " \"L'Ecole 41 Walla Walla Valley Syrah 2003\",\n",
       " \"L'Ecole 41 Walla Walla Valley Syrah 2004\",\n",
       " 'Ledge Catacombs Red Blend 2011',\n",
       " 'Ledge Vineyard Drive Red Blend 2012',\n",
       " 'Leese-Fitch Cabernet Sauvignon 2015',\n",
       " 'Leese-Fitch Cabernet Sauvignon 2016',\n",
       " 'Leese-Fitch Chardonnay 2015',\n",
       " 'Leese-Fitch Chardonnay 2016',\n",
       " 'Leese-Fitch Chardonnay 2017',\n",
       " 'Leese-Fitch Pinot Noir 2016',\n",
       " 'Leese-Fitch Sauvignon Blanc 2010',\n",
       " 'Leese-Fitch Sauvignon Blanc 2015',\n",
       " 'Leese-Fitch Sauvignon Blanc 2017',\n",
       " 'Leese-Fitch Zinfandel 2016',\n",
       " 'Leeuwin Estate Art Series Cabernet Sauvignon 1997',\n",
       " 'Leeuwin Estate Art Series Cabernet Sauvignon 1998',\n",
       " 'Leeuwin Estate Art Series Cabernet Sauvignon 1999',\n",
       " 'Leeuwin Estate Art Series Cabernet Sauvignon 2001',\n",
       " 'Leeuwin Estate Art Series Cabernet Sauvignon 2002',\n",
       " 'Leeuwin Estate Art Series Cabernet Sauvignon 2003',\n",
       " 'Leeuwin Estate Art Series Cabernet Sauvignon 2005',\n",
       " 'Leeuwin Estate Art Series Cabernet Sauvignon 2006',\n",
       " 'Leeuwin Estate Art Series Cabernet Sauvignon 2007',\n",
       " 'Leeuwin Estate Art Series Cabernet Sauvignon 2008',\n",
       " 'Leeuwin Estate Art Series Cabernet Sauvignon 2009',\n",
       " 'Leeuwin Estate Art Series Cabernet Sauvignon 2010',\n",
       " 'Leeuwin Estate Art Series Cabernet Sauvignon 2011',\n",
       " 'Leeuwin Estate Art Series Cabernet Sauvignon 2013',\n",
       " 'Leeuwin Estate Art Series Cabernet Sauvignon 2012',\n",
       " 'Leeuwin Estate Art Series Cabernet Sauvignon 2015',\n",
       " 'Leeuwin Estate Art Series Chardonnay 1998',\n",
       " 'Leeuwin Estate Art Series Chardonnay 2000',\n",
       " 'Leeuwin Estate Art Series Chardonnay 1999',\n",
       " 'Leeuwin Estate Art Series Chardonnay 2002',\n",
       " 'Leeuwin Estate Art Series Chardonnay 2003',\n",
       " 'Leeuwin Estate Art Series Chardonnay 2004',\n",
       " 'Leeuwin Estate Art Series Chardonnay 2001',\n",
       " 'Leeuwin Estate Art Series Chardonnay 2005',\n",
       " 'Leeuwin Estate Art Series Chardonnay 2006',\n",
       " 'Leeuwin Estate Art Series Chardonnay 2007',\n",
       " 'Leeuwin Estate Art Series Chardonnay 2010',\n",
       " 'Leeuwin Estate Art Series Chardonnay 2011',\n",
       " 'Leeuwin Estate Art Series Chardonnay 2013',\n",
       " 'Leeuwin Estate Art Series Chardonnay 2009',\n",
       " 'Leeuwin Estate Art Series Chardonnay 2012',\n",
       " 'Leeuwin Estate Art Series Chardonnay 2014',\n",
       " 'Leeuwin Estate Art Series Chardonnay 2008',\n",
       " 'Leeuwin Estate Art Series Riesling 2001',\n",
       " 'Leeuwin Estate Art Series Riesling 2006',\n",
       " 'Leeuwin Estate Art Series Riesling 2004',\n",
       " 'Leeuwin Estate Art Series Riesling 2008',\n",
       " 'Leeuwin Estate Art Series Riesling 2010',\n",
       " 'Leeuwin Estate Art Series Riesling 2002',\n",
       " 'Leeuwin Estate Art Series Riesling 2011',\n",
       " 'Leeuwin Estate Art Series Riesling 2012',\n",
       " 'Leeuwin Estate Art Series Riesling 2013',\n",
       " 'Leeuwin Estate Art Series Riesling 2014',\n",
       " 'Leeuwin Estate Art Series Riesling 2015',\n",
       " 'Leeuwin Estate Art Series Shiraz 1999',\n",
       " 'Leeuwin Estate Art Series Shiraz 2000',\n",
       " 'Leeuwin Estate Art Series Shiraz 2007',\n",
       " 'Leeuwin Estate Art Series Shiraz 2009',\n",
       " 'Leeuwin Estate Art Series Shiraz 2010',\n",
       " 'Leeuwin Estate Art Series Shiraz 2012',\n",
       " 'Leeuwin Estate Art Series Shiraz 2011',\n",
       " 'Leeuwin Estate Art Series Shiraz 2013',\n",
       " 'Leeuwin Estate Art Series Shiraz 2014',\n",
       " 'Leeuwin Estate Margaret River Riesling 2000',\n",
       " 'Leeuwin Estate Margaret River Riesling 1999',\n",
       " 'Leeuwin Estate Prelude Cabernet Merlot (stained label) 1997',\n",
       " 'Leeuwin Estate Prelude Vineyards Cabernet Sauvignon 2013',\n",
       " 'Leeuwin Estate Prelude Vineyards Cabernet Sauvignon 2014',\n",
       " 'Leeuwin Estate Prelude Vineyards Chardonnay 2001',\n",
       " 'Leeuwin Estate Prelude Vineyards Chardonnay 2000',\n",
       " 'Leeuwin Estate Prelude Vineyards Chardonnay 2004',\n",
       " 'Leeuwin Estate Prelude Vineyards Chardonnay 2003',\n",
       " 'Leeuwin Estate Prelude Vineyards Chardonnay 2006',\n",
       " 'Leeuwin Estate Prelude Vineyards Chardonnay 2007',\n",
       " 'Leeuwin Estate Prelude Vineyards Chardonnay 1999',\n",
       " 'Leeuwin Estate Prelude Vineyards Chardonnay 2009',\n",
       " 'Leeuwin Estate Prelude Vineyards Chardonnay 2010',\n",
       " 'Leeuwin Estate Prelude Vineyards Chardonnay 2011',\n",
       " 'Leeuwin Estate Prelude Vineyards Chardonnay 2012',\n",
       " 'Leeuwin Estate Prelude Vineyards Chardonnay 2013',\n",
       " 'Leeuwin Estate Prelude Vineyards Chardonnay 2014',\n",
       " 'Leeuwin Estate Prelude Vineyards Chardonnay 2015',\n",
       " 'Leeuwin Estate Prelude Vineyards Chardonnay 2018',\n",
       " 'Leeuwin Estate Prelude Vineyards Chardonnay 2016',\n",
       " 'Leeuwin Estate Siblings Sauvignon Blanc 2018',\n",
       " 'Leeuwin Estate Siblings Sauvignon Blanc Semillon 1999',\n",
       " 'Leeuwin Estate Siblings Sauvignon Blanc Semillon 2002',\n",
       " 'Leeuwin Estate Siblings Sauvignon Blanc Semillon 2004',\n",
       " 'Leeuwin Estate Siblings Sauvignon Blanc Semillon 2011',\n",
       " 'Leeuwin Estate Siblings Sauvignon Blanc Semillon 2014',\n",
       " 'Leeuwin Estate Siblings Sauvignon Blanc Semillon 2015',\n",
       " 'Leeuwin Estate Siblings Sauvignon Blanc Semillon 2016',\n",
       " 'Leeuwin Estate Siblings Shiraz 2003',\n",
       " 'Leeuwin Estate Siblings Shiraz 2007',\n",
       " 'Leeuwin Estate Siblings Shiraz 2004',\n",
       " 'Leeuwin Estate Siblings Shiraz 2012',\n",
       " 'Leeuwin Estate Siblings Shiraz 2014',\n",
       " 'Leeuwin Estate Siblings Shiraz 2013',\n",
       " \"Left Coast Cellars Cali's Cuvee Pinot Noir 2006\",\n",
       " \"Left Coast Cellars Cali's Cuvee Pinot Noir 2013\",\n",
       " \"Left Coast Cellars Cali's Cuvee Pinot Noir 2014\",\n",
       " \"Left Coast Cellars Cali's Cuvee Pinot Noir 2016\",\n",
       " 'Left Coast Cellars Latitude 45 Pinot Noir 2014',\n",
       " 'Left Coast Cellars The Orchards Pinot Gris 2009',\n",
       " 'Legacy Red 2013',\n",
       " 'Legaris Crianza 2005',\n",
       " 'Legaris Crianza 2009',\n",
       " 'Legaris Crianza 2010',\n",
       " 'Legaris Crianza 2012',\n",
       " 'Lemelson Chardonnay Reserve 2012',\n",
       " 'Lemelson Dry Riesling 2008',\n",
       " 'Lemelson Dry Riesling 2009',\n",
       " 'Lemelson Dry Riesling 2012',\n",
       " 'Lemelson Jerome Reserve Pinot Noir 2012',\n",
       " 'Lemelson Dry Riesling 2015',\n",
       " 'Lemelson Meyer Vineyard Pinot Noir 2012',\n",
       " 'Lemelson Meyer Vineyard Pinot Noir 2015',\n",
       " 'Lemelson Stermer Vineyard Pinot Noir 2014',\n",
       " \"Lemelson Thea's Select Pinot Noir 2000\",\n",
       " \"Lemelson Thea's Select Pinot Noir 2006\",\n",
       " \"Lemelson Thea's Select Pinot Noir 2012\",\n",
       " \"Lemelson Thea's Select Pinot Noir 2014\",\n",
       " \"Lemelson Thea's Select Pinot Noir 2015\",\n",
       " 'Lengs and Cooter Shiraz The Victor 2005',\n",
       " 'Lengs and Cooter Shiraz The Victor 2006',\n",
       " 'Lengs and Cooter The Victor 2002',\n",
       " 'Leo Steen Ascona Vineyard Cabernet Franc 2017',\n",
       " 'Leo Steen Jurassic Vineyard Chenin Blanc 2012',\n",
       " 'Leo Steen Jurassic Vineyard Chenin Blanc 2013',\n",
       " 'Leo Steen Chardonnay 2015',\n",
       " 'Leo Steen Jurassic Vineyard Chenin Blanc 2015',\n",
       " 'Leo Steen Jurassic Vineyard Chenin Blanc 2016',\n",
       " 'Leo Steen Peaberry Chenin Blanc 2016',\n",
       " 'Leo Steen Provisor Vineyard Grenache 2016',\n",
       " 'Leo Steen Provisor Vineyard Grenache 2015',\n",
       " 'Leo Steen Saini Vineyard Chenin Blanc 2015',\n",
       " 'Leo Steen Saini Vineyard Chenin Blanc 2016',\n",
       " 'Leo Steen Scala Vineyard Syrah 2013',\n",
       " 'Leone de Castris Primitivo di Manduria Villa Santera 2009',\n",
       " 'Leone de Castris Salice Salentino Riserva 2006',\n",
       " 'Leone de Castris Salice Salentino Riserva 2007',\n",
       " 'Leone de Castris Salice Salentino Riserva 2010',\n",
       " 'Leone de Castris Salice Salentino Riserva 2011',\n",
       " 'Leone de Castris Salice Salentino Riserva 2014',\n",
       " 'Leone de Castris Salice Salentino Riserva 2015',\n",
       " 'Leonetti Cabernet Sauvignon (1.5 Liter Magnum) 2014',\n",
       " 'Leone de Castris Verdeca Bianco Messapia 2009',\n",
       " 'Leonetti Cabernet Sauvignon 1994',\n",
       " 'Leonetti Cabernet Sauvignon 1995',\n",
       " 'Leonetti Cabernet Sauvignon 1997',\n",
       " 'Leonetti Cabernet Sauvignon 1998',\n",
       " 'Leonetti Cabernet Sauvignon 2001',\n",
       " 'Leonetti Cabernet Sauvignon 2000',\n",
       " 'Leonetti Cabernet Sauvignon 2005',\n",
       " 'Leonetti Cabernet Sauvignon 2010',\n",
       " 'Leonetti Cabernet Sauvignon 2011',\n",
       " 'Leonetti Cabernet Sauvignon 2012',\n",
       " 'Leonetti Cabernet Sauvignon 2013',\n",
       " 'Leonetti Cabernet Sauvignon 2014',\n",
       " 'Leonetti Cabernet Sauvignon 2015',\n",
       " 'Leonetti Cabernet Sauvignon (damaged label) 2007',\n",
       " 'Leonetti Cabernet Sauvignon (damaged label) 2009',\n",
       " 'Leonetti Merlot 1993',\n",
       " 'Leonetti Merlot 1995',\n",
       " 'Leonetti Merlot 1997',\n",
       " 'Leonetti Merlot 1998',\n",
       " 'Leonetti Merlot 1999',\n",
       " 'Leonetti Merlot 2001',\n",
       " 'Leonetti Merlot 2003',\n",
       " 'Leonetti Merlot 2004',\n",
       " 'Leonetti Merlot 2005',\n",
       " 'Leonetti Merlot 2007',\n",
       " 'Leonetti Merlot 2006',\n",
       " 'Leonetti Merlot 2008',\n",
       " 'Leonetti Merlot 2012',\n",
       " 'Leonetti Merlot 2010',\n",
       " 'Leonetti Merlot 2013',\n",
       " 'Leonetti Merlot 2015',\n",
       " 'Leonetti Merlot 2014',\n",
       " 'Leonetti Merlot 2016',\n",
       " 'Leonetti Merlot (loose foil capsule) 2000',\n",
       " 'Leonetti Merlot (scuffed labels) 2011',\n",
       " 'Leonetti Reserve 1998',\n",
       " 'Leonetti Reserve 2002',\n",
       " 'Leonetti Reserve 2005',\n",
       " 'Leonetti Reserve 2000',\n",
       " 'Leonetti Reserve 2006',\n",
       " 'Leonetti Reserve 2011',\n",
       " 'Leonetti Reserve 2012',\n",
       " 'Leonetti Reserve 2014',\n",
       " 'Leonetti Reserve 2013',\n",
       " 'Leonetti Reserve 2015',\n",
       " 'Leonetti Reserve (torn label) 2007',\n",
       " 'Leonetti Reserve (torn label) 2008',\n",
       " 'Leonetti Sangiovese 2005',\n",
       " 'Leonetti Sangiovese 2000',\n",
       " 'Leonetti Sangiovese 2006',\n",
       " 'Leonetti Sangiovese 2007',\n",
       " 'Leonetti Sangiovese 2008',\n",
       " 'Leonetti Sangiovese 2009',\n",
       " 'Leonetti Sangiovese 2011',\n",
       " 'Leonetti Sangiovese 2010',\n",
       " 'Leonetti Sangiovese 2013',\n",
       " 'Leonetti Sangiovese 2012',\n",
       " 'Leonetti Sangiovese 2014',\n",
       " 'Leonetti Seven Hills Vineyard Reserve Cabernet Sauvignon 1996',\n",
       " 'Les Alexandrins Cornas 2016',\n",
       " 'Les Alexandrins Domaine Crozes-Hermitage 2016',\n",
       " 'Les Alexandrins Domaine Saint-Joseph 2015',\n",
       " 'Les Alexandrins Domaine Saint-Joseph 2016',\n",
       " 'Les Alexandrins Maison Crozes-Hermitage 2016',\n",
       " 'Les Alexandrins Syrah 2018',\n",
       " \"Les Alexandrins Terrasses de l'Eridan Cotes du Rhone Blanc 2017\",\n",
       " \"Les Alexandrins Terrasses de l'Eridan Cotes du Rhone Rouge 2017\",\n",
       " 'Les Asteries 2005',\n",
       " 'Les Asteries 2007',\n",
       " 'Les Asteries 2008',\n",
       " 'Les Asteries 2009',\n",
       " 'Les Asteries 2011',\n",
       " 'Les Asteries 2010',\n",
       " \"Les Clefs d'Or Les Craus Centenaires 2015\",\n",
       " \"Les Clefs d'Or Les Craus Centenaires 2009\",\n",
       " \"Les Clefs d'Or Les Craus Centenaires 2010\",\n",
       " 'Les Cretes Coteau La Tour 2008',\n",
       " 'Les Cretes Le Sommet Nebbiolo 2016',\n",
       " 'Les Cretes Les Abeilles 2006',\n",
       " \"Les Cretes Valle d'Aosta Chardonnay 2010\",\n",
       " \"Les Cretes Valle d'Aosta Cuvee Bois Chardonnay 2016\",\n",
       " 'Les Forts de Latour 1996',\n",
       " 'Les Forts de Latour 1999',\n",
       " 'Les Forts de Latour 2000',\n",
       " 'Les Forts de Latour 2001',\n",
       " 'Les Forts de Latour 2005',\n",
       " 'Les Forts de Latour 2008',\n",
       " 'Les Forts de Latour 2009',\n",
       " 'Les Garrigues Cotes du Rhone 2017',\n",
       " 'Les Halos de Jupiter Chateauneuf-du-Pape 2009',\n",
       " 'Les Halos de Jupiter Chateauneuf-du-Pape Adrastee 2009',\n",
       " 'Les Halos de Jupiter Cotes du Rhone 2010',\n",
       " 'Les Hauts de Lagarde Bordeaux Blanc 2013',\n",
       " \"Les Quatre Tours Coteaux d'Aix en Provence 2016\",\n",
       " \"Les Vignerons d'Estezargues La Granacha Cotes du Rhone Villages Signargues 2008\",\n",
       " \"Les Vignerons d'Estezargues La Granacha Cotes du Rhone Villages Signargues 2009\",\n",
       " 'Les Vignerons de Tautavel Cotes du Roussillon Villages Tautavel Silex 2012',\n",
       " \"Les Vignerons d'Estezargues La Granacha Cotes du Rhone Villages Signargues 2007\",\n",
       " \"Les Vins Breban L'Opale de La Presqu'ile de St-Tropez Provence 2012\",\n",
       " 'Les Vignes Oubliées Coteaux du Languedoc Terrasses du Larzac 2014',\n",
       " \"L'Esprit de Chevalier Pessac Leognan 2000\",\n",
       " 'Leth Steinagrund Gruner Veltliner 2007',\n",
       " 'Leth Steinagrund Gruner Veltliner 2008',\n",
       " 'Leth Steinagrund Gruner Veltliner 2010',\n",
       " 'Leth Steinagrund Gruner Veltliner 2012',\n",
       " 'Leth Steinagrund Gruner Veltliner 2015',\n",
       " 'Leth Steinagrund Gruner Veltliner 2016',\n",
       " 'Leth Steinagrund Gruner Veltliner 2017',\n",
       " 'Levendi River South Ranch Pinot Noir 2013',\n",
       " 'Levendi Stagecoach Cabernet Sauvignon 2008',\n",
       " 'Levendi Sweeney Ranch Chardonnay 2010',\n",
       " 'Levet La Chavaroche Cote Rotie 2013',\n",
       " 'Levet Les Journaries Cote Rotie 2010',\n",
       " 'Leviathan (1.5 Liter Magnum) 2016',\n",
       " 'Leviathan 2010',\n",
       " 'Leviathan 2011',\n",
       " 'Levy & McClellan Proprietary Red 2004',\n",
       " 'Levy & McClellan Proprietary Red 2005',\n",
       " 'Lewelling Cabernet Sauvignon 2000',\n",
       " 'Lewelling Cabernet Sauvignon 2005',\n",
       " 'Lewelling Cabernet Sauvignon 2001',\n",
       " 'Lewelling Cabernet Sauvignon 2006',\n",
       " 'Lewelling Cabernet Sauvignon 2007',\n",
       " 'Lewelling Cabernet Sauvignon 2009',\n",
       " 'Lewelling Cabernet Sauvignon 2010',\n",
       " 'Lewelling Cabernet Sauvignon 2012',\n",
       " 'Lewelling Wight Vineyard Cabernet Sauvignon 2003',\n",
       " 'Lewelling Wight Vineyard Cabernet Sauvignon 2005',\n",
       " 'Lewelling Wight Vineyard Cabernet Sauvignon 2006',\n",
       " 'Lewelling Wight Vineyard Cabernet Sauvignon 2009',\n",
       " 'Lewelling Wight Vineyard Cabernet Sauvignon 2008',\n",
       " 'Lewelling Wight Vineyard Cabernet Sauvignon 2007',\n",
       " 'Lewelling Wight Vineyard Cabernet Sauvignon 2010',\n",
       " \"Lewis Cellars Alec's Blend Red 2002\",\n",
       " \"Lewis Cellars Alec's Blend Red 2003\",\n",
       " \"Lewis Cellars Alec's Blend Red 2007\",\n",
       " \"Lewis Cellars Alec's Blend Red 2009\",\n",
       " \"Lewis Cellars Alec's Blend Red 2005\",\n",
       " \"Lewis Cellars Alec's Blend Red 2010\",\n",
       " \"Lewis Cellars Alec's Blend Red 2014\",\n",
       " \"Lewis Cellars Alec's Blend Red 2013\",\n",
       " \"Lewis Cellars Alec's Blend Red 2017\",\n",
       " 'Lewis Cellars Barcaglia Lane Chardonnay 2006',\n",
       " 'Lewis Cellars Barcaglia Lane Chardonnay 2008',\n",
       " 'Lewis Cellars Barcaglia Lane Chardonnay 2009',\n",
       " 'Lewis Cellars Barcaglia Lane Chardonnay 2015',\n",
       " 'Lewis Cellars Barcaglia Lane Chardonnay 2014',\n",
       " 'Lewis Cellars Barcaglia Lane Chardonnay 2017',\n",
       " 'Lewis Cellars Cabernet Sauvignon 2002',\n",
       " 'Lewis Cellars Cabernet Sauvignon 2004',\n",
       " 'Lewis Cellars Cabernet Sauvignon 2005',\n",
       " 'Lewis Cellars Cabernet Sauvignon 2012',\n",
       " 'Lewis Cellars Cabernet Sauvignon 2015',\n",
       " 'Lewis Cellars Cabernet Sauvignon 2014',\n",
       " 'Lewis Cellars Cabernet Sauvignon 2013',\n",
       " 'Lewis Cellars Cabernet Sauvignon 2017',\n",
       " 'Lewis Cellars Cuvee L 2005',\n",
       " 'Lewis Cellars Cuvee L 2006',\n",
       " 'Lewis Cellars Cuvee L Cabernet Sauvignon 2014',\n",
       " 'Lewis Cellars Cuvee L Cabernet Sauvignon 2015',\n",
       " 'Lewis Cellars Hillstone Vineyard Cabernet Sauvignon 2014',\n",
       " 'Lewis Cellars Hudson Vineyards Syrah 2006',\n",
       " \"Lewis Cellars Mason's Cabernet Sauvignon 2003\",\n",
       " \"Lewis Cellars Mason's Cabernet Sauvignon 2015\",\n",
       " \"Lewis Cellars Mason's Cabernet Sauvignon 2018\",\n",
       " 'Lewis Cellars Merlot 2000',\n",
       " 'Lewis Cellars Napa Valley Chardonnay 2008',\n",
       " 'Lewis Cellars Napa Valley Chardonnay 2015',\n",
       " 'Lewis Cellars Napa Valley Chardonnay 2014',\n",
       " 'Lewis Cellars Napa Valley Chardonnay 2016',\n",
       " 'Lewis Cellars Napa Valley Syrah 2006',\n",
       " 'Lewis Cellars Napa Valley Syrah 2007',\n",
       " 'Lewis Cellars Reserve Cabernet Sauvignon (1.5 Liter Magnum) 2011',\n",
       " 'Lewis Cellars Reserve Cabernet Sauvignon (1.5 Liter Magnum) 2016',\n",
       " 'Lewis Cellars Reserve Cabernet Sauvignon (1.5L Magnum) 2004',\n",
       " 'Lewis Cellars Reserve Cabernet Sauvignon 1995',\n",
       " 'Lewis Cellars Reserve Cabernet Sauvignon 2000',\n",
       " 'Lewis Cellars Reserve Cabernet Sauvignon 2005',\n",
       " 'Lewis Cellars Reserve Cabernet Sauvignon 2006',\n",
       " 'Lewis Cellars Reserve Cabernet Sauvignon 2007',\n",
       " 'Lewis Cellars Reserve Cabernet Sauvignon 2008',\n",
       " 'Lewis Cellars Reserve Cabernet Sauvignon 2009',\n",
       " 'Lewis Cellars Reserve Cabernet Sauvignon 2010',\n",
       " 'Lewis Cellars Reserve Cabernet Sauvignon 2011',\n",
       " 'Lewis Cellars Reserve Cabernet Sauvignon 2015',\n",
       " 'Lewis Cellars Reserve Cabernet Sauvignon 2014',\n",
       " 'Lewis Cellars Reserve Cabernet Sauvignon 2016',\n",
       " 'Lewis Cellars Reserve Cabernet Sauvignon (scuffed labels) 2012',\n",
       " 'Lewis Cellars Reserve Chardonnay 2008',\n",
       " 'Lewis Cellars Reserve Chardonnay 2015',\n",
       " 'Lewis Cellars Reserve Chardonnay 2018',\n",
       " 'Lewis Cellars Reserve Chardonnay 2017',\n",
       " 'Lewis Cellars Reserve Merlot 1995',\n",
       " 'Lewis Cellars Sauvignon Blanc 2016',\n",
       " 'Lewis Cellars Sauvignon Blanc 2018',\n",
       " 'Lewis Cellars Sonoma Chardonnay 2014',\n",
       " 'Lewis Cellars Sonoma Chardonnay 2015',\n",
       " 'Lewis Cellars Sonoma Chardonnay 2017',\n",
       " 'Lewis Cellars Sonoma Valley Chardonnay 2008',\n",
       " \"Lewis Cellars Syrah Ethan's Blend 2005\",\n",
       " \"Lewis Cellars Syrah Ethan's Blend 2014\",\n",
       " \"Lewis Cellars Syrah Ethan's Blend 2009\",\n",
       " 'Lexington Apex Red 2011',\n",
       " 'Lexington Gist Ranch Cabernet Sauvignon 2011']"
      ]
     },
     "execution_count": 85,
     "metadata": {},
     "output_type": "execute_result"
    }
   ],
   "source": [
    "# these names are using an index, like {\"0\": \"Some Name and Year\"}. Update the data to use a list of only the names\n",
    "names_only = list(names.values())\n",
    "names_only"
   ]
  },
  {
   "cell_type": "code",
   "execution_count": 87,
   "metadata": {},
   "outputs": [],
   "source": [
    "# now use the `.dump()` JSON method (note no 's'!) to save it to a new\n",
    "# JSON file\n",
    "with open('wine_names.json', 'w') as f:\n",
    "    json.dump(names_only, f)"
   ]
  }
 ],
 "metadata": {
  "kernelspec": {
   "display_name": "Python 3.11.0 64-bit",
   "language": "python",
   "name": "python3"
  },
  "language_info": {
   "codemirror_mode": {
    "name": "ipython",
    "version": 3
   },
   "file_extension": ".py",
   "mimetype": "text/x-python",
   "name": "python",
   "nbconvert_exporter": "python",
   "pygments_lexer": "ipython3",
   "version": "3.11.0"
  },
  "orig_nbformat": 4,
  "vscode": {
   "interpreter": {
    "hash": "1a1af0ee75eeea9e2e1ee996c87e7a2b11a0bebd85af04bb136d915cefc0abce"
   }
  }
 },
 "nbformat": 4,
 "nbformat_minor": 2
}
